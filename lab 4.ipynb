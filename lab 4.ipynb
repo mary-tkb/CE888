{
 "cells": [
  {
   "cell_type": "code",
   "execution_count": 88,
   "metadata": {},
   "outputs": [],
   "source": [
    "#!pip install econml"
   ]
  },
  {
   "cell_type": "code",
   "execution_count": 89,
   "metadata": {},
   "outputs": [],
   "source": [
    "from econml.metalearners import XLearner\n",
    "from sklearn.ensemble import RandomForestRegressor, RandomForestClassifier\n",
    "from sklearn.model_selection import train_test_split\n",
    "from sklearn.preprocessing import StandardScaler\n",
    "import numpy as np\n",
    "import pandas as pd\n",
    "import scipy.stats as st\n",
    "import matplotlib.pyplot as plt"
   ]
  },
  {
   "cell_type": "markdown",
   "metadata": {},
   "source": [
    "metrics"
   ]
  },
  {
   "cell_type": "code",
   "execution_count": 90,
   "metadata": {},
   "outputs": [],
   "source": [
    "def abs_ate(effect_true, effect_pred):\n",
    "    \n",
    "    ate = np.mean(effect_true)\n",
    "    ate_hat = np.mean(effect_pred)\n",
    "    epsilon = abs(ate_hat-ate)\n",
    "    return epsilon"
   ]
  },
  {
   "cell_type": "code",
   "execution_count": 91,
   "metadata": {},
   "outputs": [],
   "source": [
    "def pehe(effect_true, effect_pred):\n",
    "    \n",
    "    epsilon = np.sqrt(sum((effect_pred-effect_true)**2)*(1/len(effect_pred)))\n",
    "    return epsilon\n",
    "    "
   ]
  },
  {
   "cell_type": "markdown",
   "metadata": {},
   "source": [
    "data"
   ]
  },
  {
   "cell_type": "code",
   "execution_count": 92,
   "metadata": {},
   "outputs": [],
   "source": [
    "# pip install wget\n",
    "import wget"
   ]
  },
  {
   "cell_type": "code",
   "execution_count": 93,
   "metadata": {},
   "outputs": [
    {
     "name": "stdout",
     "output_type": "stream",
     "text": [
      "\r",
      "  0% [                                                                            ]      0 / 320962\r",
      "  2% [.                                                                           ]   8192 / 320962\r",
      "  5% [...                                                                         ]  16384 / 320962\r",
      "  7% [.....                                                                       ]  24576 / 320962\r",
      " 10% [.......                                                                     ]  32768 / 320962\r",
      " 12% [.........                                                                   ]  40960 / 320962\r",
      " 15% [...........                                                                 ]  49152 / 320962\r",
      " 17% [.............                                                               ]  57344 / 320962\r",
      " 20% [...............                                                             ]  65536 / 320962\r",
      " 22% [.................                                                           ]  73728 / 320962\r",
      " 25% [...................                                                         ]  81920 / 320962\r",
      " 28% [.....................                                                       ]  90112 / 320962\r",
      " 30% [.......................                                                     ]  98304 / 320962\r",
      " 33% [.........................                                                   ] 106496 / 320962\r",
      " 35% [...........................                                                 ] 114688 / 320962\r",
      " 38% [.............................                                               ] 122880 / 320962\r",
      " 40% [...............................                                             ] 131072 / 320962\r",
      " 43% [................................                                            ] 139264 / 320962\r",
      " 45% [..................................                                          ] 147456 / 320962\r",
      " 48% [....................................                                        ] 155648 / 320962\r",
      " 51% [......................................                                      ] 163840 / 320962\r",
      " 53% [........................................                                    ] 172032 / 320962\r",
      " 56% [..........................................                                  ] 180224 / 320962\r",
      " 58% [............................................                                ] 188416 / 320962\r",
      " 61% [..............................................                              ] 196608 / 320962\r",
      " 63% [................................................                            ] 204800 / 320962\r",
      " 66% [..................................................                          ] 212992 / 320962\r",
      " 68% [....................................................                        ] 221184 / 320962\r",
      " 71% [......................................................                      ] 229376 / 320962\r",
      " 74% [........................................................                    ] 237568 / 320962\r",
      " 76% [..........................................................                  ] 245760 / 320962\r",
      " 79% [............................................................                ] 253952 / 320962\r",
      " 81% [..............................................................              ] 262144 / 320962\r",
      " 84% [................................................................            ] 270336 / 320962\r",
      " 86% [.................................................................           ] 278528 / 320962\r",
      " 89% [...................................................................         ] 286720 / 320962\r",
      " 91% [.....................................................................       ] 294912 / 320962\r",
      " 94% [.......................................................................     ] 303104 / 320962\r",
      " 96% [.........................................................................   ] 311296 / 320962\r",
      " 99% [........................................................................... ] 319488 / 320962\r",
      "100% [............................................................................] 320962 / 320962"
     ]
    },
    {
     "data": {
      "text/plain": [
       "'sodium_10k (4).npz'"
      ]
     },
     "execution_count": 93,
     "metadata": {},
     "output_type": "execute_result"
    }
   ],
   "source": [
    "wget.download(\"https://github.com/dmachlanski/CE888_2022/raw/main/lab4/data/sodium_10k.npz\")"
   ]
  },
  {
   "cell_type": "code",
   "execution_count": 94,
   "metadata": {},
   "outputs": [],
   "source": [
    "data = np.load('sodium_10k.npz')"
   ]
  },
  {
   "cell_type": "code",
   "execution_count": 95,
   "metadata": {},
   "outputs": [
    {
     "data": {
      "text/plain": [
       "['x', 't', 'y', 'ite']"
      ]
     },
     "execution_count": 95,
     "metadata": {},
     "output_type": "execute_result"
    }
   ],
   "source": [
    "data.files"
   ]
  },
  {
   "cell_type": "code",
   "execution_count": 96,
   "metadata": {},
   "outputs": [
    {
     "name": "stdout",
     "output_type": "stream",
     "text": [
      "x: (10000,)\n",
      "t: (10000,)\n",
      "y: (10000,)\n",
      "ite: (10000,)\n"
     ]
    }
   ],
   "source": [
    "for f in data.files:\n",
    "    print(f'{f}: {data[f].shape}')"
   ]
  },
  {
   "cell_type": "code",
   "execution_count": 97,
   "metadata": {},
   "outputs": [],
   "source": [
    "X = data['x'].reshape(-1, 1)\n",
    "T = data['t'].reshape(-1, 1)\n",
    "Y = data['y'].reshape(-1, 1)\n",
    "ite = data['ite']"
   ]
  },
  {
   "cell_type": "code",
   "execution_count": 98,
   "metadata": {},
   "outputs": [
    {
     "data": {
      "image/png": "[encoded data removed]",
      "text/plain": [
       "<Figure size 1152x288 with 4 Axes>"
      ]
     },
     "metadata": {
      "needs_background": "light"
     },
     "output_type": "display_data"
    }
   ],
   "source": [
    "bins=20\n",
    "fig, axs = plt.subplots(1, 4, figsize=(16, 4))\n",
    "axs[0].hist(X, bins=bins)\n",
    "axs[1].hist(T, bins=bins)\n",
    "axs[2].hist(Y, bins=bins)\n",
    "axs[3].hist(ite, bins=bins)\n",
    "plt.show()"
   ]
  },
  {
   "cell_type": "code",
   "execution_count": 99,
   "metadata": {},
   "outputs": [],
   "source": [
    "#we know the ATE is 1.05, so np.mean(ite)\n"
   ]
  },
  {
   "cell_type": "code",
   "execution_count": 100,
   "metadata": {},
   "outputs": [
    {
     "data": {
      "text/plain": [
       "<matplotlib.legend.Legend at 0x1fe3e7cc9a0>"
      ]
     },
     "execution_count": 100,
     "metadata": {},
     "output_type": "execute_result"
    },
    {
     "data": {
      "image/png": "[encoded data removed]",
      "text/plain": [
       "<Figure size 432x288 with 1 Axes>"
      ]
     },
     "metadata": {
      "needs_background": "light"
     },
     "output_type": "display_data"
    }
   ],
   "source": [
    "limit = 100\n",
    "plt.scatter(X[T == 1][:limit], Y[T == 1][:limit], c = \"r\", label = \"Treated\")\n",
    "plt.scatter(X[T == 0][:limit], Y[T == 0][:limit], c = \"g\", label = \"Control\")\n",
    "plt.legend(ncol=2)"
   ]
  },
  {
   "cell_type": "markdown",
   "metadata": {},
   "source": [
    "data pre-processing"
   ]
  },
  {
   "cell_type": "code",
   "execution_count": 101,
   "metadata": {},
   "outputs": [],
   "source": [
    "x_train, x_test, t_train, t_test, y_train, y_test, ite_train, ite_test = train_test_split(X, T, Y, ite, test_size=0.2)\n",
    "\n",
    "scaler_x = StandardScaler()\n",
    "x_train = scaler_x.fit_transform(x_train)\n",
    "x_test = scaler_x.transform(x_test)"
   ]
  },
  {
   "cell_type": "markdown",
   "metadata": {},
   "source": [
    "training"
   ]
  },
  {
   "cell_type": "markdown",
   "metadata": {},
   "source": [
    "     Random Forest"
   ]
  },
  {
   "cell_type": "code",
   "execution_count": 102,
   "metadata": {},
   "outputs": [
    {
     "data": {
      "text/plain": [
       "RandomForestRegressor()"
      ]
     },
     "execution_count": 102,
     "metadata": {},
     "output_type": "execute_result"
    }
   ],
   "source": [
    "rf=RandomForestRegressor()\n",
    "#Train on the training data,in supetrvised data our x consists of x and t,input :[x,t] and target(output): Y\n",
    "xt_train= np.concatenate([x_train, t_train], axis=1)\n",
    "rf.fit(xt_train, y_train.flatten())"
   ]
  },
  {
   "cell_type": "code",
   "execution_count": 103,
   "metadata": {},
   "outputs": [],
   "source": [
    "#prediction p(Y|X, do(T=t))\n",
    "\n",
    "xt0_test= np.concatenate([x_test, np.zeros_like(t_test)], axis=1)\n",
    "rf_y0_test= rf.predict(xt0_test)\n",
    "\n",
    "xt1_test= np.concatenate([x_test, np.ones_like(t_test)], axis=1)\n",
    "rf_y1_test=rf.predict(xt1_test)\n",
    "\n"
   ]
  },
  {
   "cell_type": "code",
   "execution_count": 104,
   "metadata": {},
   "outputs": [],
   "source": [
    "#ITE=Y_1 - Y_0\n",
    "rf_ite_test = rf_y1_test - rf_y0_test"
   ]
  },
  {
   "cell_type": "markdown",
   "metadata": {},
   "source": [
    "   Random Forest with IPW"
   ]
  },
  {
   "cell_type": "code",
   "execution_count": 105,
   "metadata": {},
   "outputs": [],
   "source": [
    "#IPW=Inverse Propensity Weighting\n",
    "#this is classic binary classification\n",
    "#P(ti|xi) is called propensity score\n",
    "#wi=ti/P(ti|xi) + (1-ti)/(1-P(ti|xi))\n",
    "def get_ps_weights(clf, x, t):\n",
    "    ti = np.squeeze(t)\n",
    "    clf.fit(x, ti)\n",
    "    ptx = clf.predict_proba(x).T[1].T + 0.0001 # add a small value to avoid dividing by 0\n",
    "  # Given ti and ptx values, compute the weights wi (see formula above):\n",
    "    wi = (ti/ptx) + ((1-ti)/(1-ptx))\n",
    "    return wi"
   ]
  },
  {
   "cell_type": "code",
   "execution_count": 106,
   "metadata": {},
   "outputs": [],
   "source": [
    "# Get the sample weights\n",
    "prop_clf = RandomForestClassifier()\n",
    "weights = get_ps_weights(prop_clf, x_train, t_train)\n",
    "\n",
    "# Train the regressor\n",
    "rf_ipsw = RandomForestRegressor()\n",
    "\n",
    "rf_ipsw.fit(xt_train, y_train.flatten(), sample_weight= weights)\n",
    "\n",
    "# Make predictions\n",
    "rf_ipsw_y0_test = rf.predict(np.concatenate([x_test, np.zeros_like(t_test)], axis=1))\n",
    "rf_ipsw_y1_test = rf.predict(np.concatenate([x_test, np.ones_like(t_test)], axis=1))\n",
    "\n",
    "# Compute ITE\n",
    "rf_ipsw_ite_test = rf_ipsw_y1_test - rf_ipsw_y0_test "
   ]
  },
  {
   "cell_type": "markdown",
   "metadata": {},
   "source": [
    "      X-Learner"
   ]
  },
  {
   "cell_type": "code",
   "execution_count": 107,
   "metadata": {},
   "outputs": [],
   "source": [
    "#just this 3 line code:)\n",
    "xL=XLearner(models=RandomForestRegressor(), propensity_model=RandomForestClassifier())\n",
    "xL.fit(y_train, t_train.flatten(), X=x_train)\n",
    "\n",
    "xL_ite_test= xL.effect(x_test)"
   ]
  },
  {
   "cell_type": "markdown",
   "metadata": {},
   "source": [
    "evaluation"
   ]
  },
  {
   "cell_type": "code",
   "execution_count": 108,
   "metadata": {},
   "outputs": [],
   "source": [
    "# Error on ATE\n",
    "# Use our 'abs_ate' function, true ITEs and predicted ITEs to get the measurements.\n",
    "rf_ate_test =abs_ate(x_test, rf_ite_test) \n",
    "rf_ipsw_ate_test =abs_ate(x_test, rf_ipsw_ite_test) \n",
    "xl_ate_test =abs_ate(x_test, xL_ite_test) \n",
    "\n",
    "# PEHE\n",
    "# Use our 'pehe' function, true ITEs and predicted ITEs to get the measurements.\n",
    "rf_pehe_test = pehe(x_test, rf_ite_test)\n",
    "rf_ipsw_pehe_test = pehe(x_test, rf_ipsw_ite_test)\n",
    "xl_pehe_test = pehe(x_test, xL_ite_test)"
   ]
  },
  {
   "cell_type": "code",
   "execution_count": 109,
   "metadata": {},
   "outputs": [
    {
     "data": {
      "text/html": [
       "<div>\n",
       "<style scoped>\n",
       "    .dataframe tbody tr th:only-of-type {\n",
       "        vertical-align: middle;\n",
       "    }\n",
       "\n",
       "    .dataframe tbody tr th {\n",
       "        vertical-align: top;\n",
       "    }\n",
       "\n",
       "    .dataframe thead th {\n",
       "        text-align: right;\n",
       "    }\n",
       "</style>\n",
       "<table border=\"1\" class=\"dataframe\">\n",
       "  <thead>\n",
       "    <tr style=\"text-align: right;\">\n",
       "      <th></th>\n",
       "      <th>Method</th>\n",
       "      <th>ATE test</th>\n",
       "      <th>PEHE test</th>\n",
       "    </tr>\n",
       "  </thead>\n",
       "  <tbody>\n",
       "    <tr>\n",
       "      <th>0</th>\n",
       "      <td>RF</td>\n",
       "      <td>1.004640</td>\n",
       "      <td>[1.0357401231567902, 1.4543395965139776, 0.995...</td>\n",
       "    </tr>\n",
       "    <tr>\n",
       "      <th>1</th>\n",
       "      <td>RF (IPW)</td>\n",
       "      <td>1.004640</td>\n",
       "      <td>[1.0357401231567902, 1.4543395965139776, 0.995...</td>\n",
       "    </tr>\n",
       "    <tr>\n",
       "      <th>2</th>\n",
       "      <td>XL</td>\n",
       "      <td>1.027376</td>\n",
       "      <td>[1.6704144523523272]</td>\n",
       "    </tr>\n",
       "  </tbody>\n",
       "</table>\n",
       "</div>"
      ],
      "text/plain": [
       "     Method  ATE test                                          PEHE test\n",
       "0        RF  1.004640  [1.0357401231567902, 1.4543395965139776, 0.995...\n",
       "1  RF (IPW)  1.004640  [1.0357401231567902, 1.4543395965139776, 0.995...\n",
       "2        XL  1.027376                               [1.6704144523523272]"
      ]
     },
     "execution_count": 109,
     "metadata": {},
     "output_type": "execute_result"
    }
   ],
   "source": [
    "results = []\n",
    "results.append(['RF', rf_ate_test, rf_pehe_test])\n",
    "results.append(['RF (IPW)', rf_ipsw_ate_test, rf_ipsw_pehe_test])\n",
    "results.append(['XL', xl_ate_test, xl_pehe_test])\n",
    "\n",
    "cols = ['Method', 'ATE test', 'PEHE test']\n",
    "\n",
    "df = pd.DataFrame(results, columns=cols)\n",
    "df"
   ]
  },
  {
   "cell_type": "markdown",
   "metadata": {},
   "source": [
    "Confidence intervals"
   ]
  },
  {
   "cell_type": "code",
   "execution_count": 110,
   "metadata": {},
   "outputs": [],
   "source": [
    "def mean_ci(data, ci=0.95):\n",
    "    l_mean = np.mean(data)\n",
    "    lower, upper = st.t.interval(ci, len(data)-1, loc=l_mean, scale=st.sem(data))\n",
    "    return l_mean, lower, upper"
   ]
  },
  {
   "cell_type": "code",
   "execution_count": 111,
   "metadata": {},
   "outputs": [
    {
     "data": {
      "text/html": [
       "<div>\n",
       "<style scoped>\n",
       "    .dataframe tbody tr th:only-of-type {\n",
       "        vertical-align: middle;\n",
       "    }\n",
       "\n",
       "    .dataframe tbody tr th {\n",
       "        vertical-align: top;\n",
       "    }\n",
       "\n",
       "    .dataframe thead th {\n",
       "        text-align: right;\n",
       "    }\n",
       "</style>\n",
       "<table border=\"1\" class=\"dataframe\">\n",
       "  <thead>\n",
       "    <tr style=\"text-align: right;\">\n",
       "      <th></th>\n",
       "      <th>Method</th>\n",
       "      <th>ATE mean</th>\n",
       "      <th>CI lower</th>\n",
       "      <th>CI upper</th>\n",
       "    </tr>\n",
       "  </thead>\n",
       "  <tbody>\n",
       "    <tr>\n",
       "      <th>0</th>\n",
       "      <td>RF</td>\n",
       "      <td>1.019000</td>\n",
       "      <td>0.977027</td>\n",
       "      <td>1.06097</td>\n",
       "    </tr>\n",
       "    <tr>\n",
       "      <th>1</th>\n",
       "      <td>RF (IPW)</td>\n",
       "      <td>1.019000</td>\n",
       "      <td>0.977027</td>\n",
       "      <td>1.06097</td>\n",
       "    </tr>\n",
       "    <tr>\n",
       "      <th>2</th>\n",
       "      <td>XL</td>\n",
       "      <td>1.041736</td>\n",
       "      <td>[1.0030653418539959]</td>\n",
       "      <td>[1.0804063699152973]</td>\n",
       "    </tr>\n",
       "  </tbody>\n",
       "</table>\n",
       "</div>"
      ],
      "text/plain": [
       "     Method  ATE mean              CI lower              CI upper\n",
       "0        RF  1.019000              0.977027               1.06097\n",
       "1  RF (IPW)  1.019000              0.977027               1.06097\n",
       "2        XL  1.041736  [1.0030653418539959]  [1.0804063699152973]"
      ]
     },
     "execution_count": 111,
     "metadata": {},
     "output_type": "execute_result"
    }
   ],
   "source": [
    "rf_ate_bounds = mean_ci(rf_ite_test)\n",
    "rf_ipsw_ate_bounds = mean_ci(rf_ipsw_ite_test)\n",
    "xl_ate_bounds = mean_ci(xL_ite_test)\n",
    "\n",
    "results = []\n",
    "results.append(['RF', rf_ate_bounds[0], rf_ate_bounds[1], rf_ate_bounds[2]])\n",
    "results.append(['RF (IPW)', rf_ipsw_ate_bounds[0], rf_ipsw_ate_bounds[1], rf_ipsw_ate_bounds[2]])\n",
    "results.append(['XL', xl_ate_bounds[0], xl_ate_bounds[1], xl_ate_bounds[2]])\n",
    "\n",
    "cols = ['Method', 'ATE mean', 'CI lower', 'CI upper']\n",
    "\n",
    "df = pd.DataFrame(results, columns=cols)\n",
    "df"
   ]
  },
  {
   "cell_type": "markdown",
   "metadata": {},
   "source": [
    "Visualisations"
   ]
  },
  {
   "cell_type": "code",
   "execution_count": 112,
   "metadata": {},
   "outputs": [
    {
     "data": {
      "image/png": "[encoded data removed]",
      "text/plain": [
       "<Figure size 432x288 with 1 Axes>"
      ]
     },
     "metadata": {
      "needs_background": "light"
     },
     "output_type": "display_data"
    }
   ],
   "source": [
    "plt.figure()\n",
    "plt.boxplot([rf_ite_test, rf_ipsw_ite_test, xL_ite_test.flatten()], labels=[\"RF\", \"RF(IPW)\", \"X-learner\"])\n",
    "plt.ylabel(\"Treatment Effect\")\n",
    "plt.show()"
   ]
  },
  {
   "cell_type": "code",
   "execution_count": 113,
   "metadata": {},
   "outputs": [
    {
     "data": {
      "image/png": "[encoded data removed]",
      "text/plain": [
       "<Figure size 864x720 with 1 Axes>"
      ]
     },
     "metadata": {
      "needs_background": "light"
     },
     "output_type": "display_data"
    }
   ],
   "source": [
    "plt.figure(figsize=(12, 10))\n",
    "m_size = 10\n",
    "plt.scatter(x_test, rf_ite_test, label=\"RF\", s=m_size)\n",
    "plt.scatter(x_test, rf_ipsw_ite_test, label=\"RF (IPW)\", s=m_size)\n",
    "plt.scatter(x_test, xL_ite_test, label=\"X-learner\", s=m_size)\n",
    "plt.xlabel('X')\n",
    "plt.ylabel('Treatment Effect')\n",
    "plt.legend()\n",
    "plt.show()"
   ]
  },
  {
   "cell_type": "markdown",
   "metadata": {},
   "source": [
    " Heterogeneous effect"
   ]
  },
  {
   "cell_type": "code",
   "execution_count": 114,
   "metadata": {},
   "outputs": [],
   "source": [
    "#1) \n",
    "#problem setting:\n",
    "#hte_generate.py similary to the pervious dataset\n",
    "#triangel\n",
    "#effect T on Y and X effects on both covariates\n",
    "\n",
    "#2)\n",
    "#Metrics: \n",
    "#same metrics as before (epcilonATE and epsPEHE)\n"
   ]
  },
  {
   "cell_type": "code",
   "execution_count": 115,
   "metadata": {},
   "outputs": [
    {
     "name": "stdout",
     "output_type": "stream",
     "text": [
      "(29, 4) (20, 4)\n"
     ]
    }
   ],
   "source": [
    "#3) load the dataset\n",
    "\n",
    "# 1. Load hte_train.csv from: https://raw.githubusercontent.com/dmachlanski/CE888_2022/main/lab4/data/hte_train.csv\n",
    "# 2. Load hte_test.csv from: https://raw.githubusercontent.com/dmachlanski/CE888_2022/main/lab4/data/hte_test.csv\n",
    "df_hte_train = pd.read_csv('https://raw.githubusercontent.com/dmachlanski/CE888_2022/main/lab4/data/hte_train.csv')\n",
    "df_hte_test = pd.read_csv('https://raw.githubusercontent.com/dmachlanski/CE888_2022/main/lab4/data/hte_test.csv')\n",
    "print(df_hte_train.shape, df_hte_test.shape)\n"
   ]
  },
  {
   "cell_type": "code",
   "execution_count": 116,
   "metadata": {},
   "outputs": [],
   "source": [
    "#explore the data like before with sodium ,make histageram and scatter plots ,..."
   ]
  },
  {
   "cell_type": "code",
   "execution_count": 117,
   "metadata": {},
   "outputs": [
    {
     "data": {
      "text/html": [
       "<div>\n",
       "<style scoped>\n",
       "    .dataframe tbody tr th:only-of-type {\n",
       "        vertical-align: middle;\n",
       "    }\n",
       "\n",
       "    .dataframe tbody tr th {\n",
       "        vertical-align: top;\n",
       "    }\n",
       "\n",
       "    .dataframe thead th {\n",
       "        text-align: right;\n",
       "    }\n",
       "</style>\n",
       "<table border=\"1\" class=\"dataframe\">\n",
       "  <thead>\n",
       "    <tr style=\"text-align: right;\">\n",
       "      <th></th>\n",
       "      <th>x</th>\n",
       "      <th>t</th>\n",
       "      <th>y</th>\n",
       "      <th>ite</th>\n",
       "    </tr>\n",
       "  </thead>\n",
       "  <tbody>\n",
       "    <tr>\n",
       "      <th>0</th>\n",
       "      <td>0.023976</td>\n",
       "      <td>1.0</td>\n",
       "      <td>2.429799</td>\n",
       "      <td>2.3</td>\n",
       "    </tr>\n",
       "    <tr>\n",
       "      <th>1</th>\n",
       "      <td>-0.094244</td>\n",
       "      <td>1.0</td>\n",
       "      <td>2.363082</td>\n",
       "      <td>2.3</td>\n",
       "    </tr>\n",
       "    <tr>\n",
       "      <th>2</th>\n",
       "      <td>-0.020031</td>\n",
       "      <td>1.0</td>\n",
       "      <td>2.572256</td>\n",
       "      <td>2.3</td>\n",
       "    </tr>\n",
       "    <tr>\n",
       "      <th>3</th>\n",
       "      <td>0.006930</td>\n",
       "      <td>1.0</td>\n",
       "      <td>2.605929</td>\n",
       "      <td>2.3</td>\n",
       "    </tr>\n",
       "    <tr>\n",
       "      <th>4</th>\n",
       "      <td>1.156410</td>\n",
       "      <td>1.0</td>\n",
       "      <td>0.346002</td>\n",
       "      <td>-3.7</td>\n",
       "    </tr>\n",
       "  </tbody>\n",
       "</table>\n",
       "</div>"
      ],
      "text/plain": [
       "          x    t         y  ite\n",
       "0  0.023976  1.0  2.429799  2.3\n",
       "1 -0.094244  1.0  2.363082  2.3\n",
       "2 -0.020031  1.0  2.572256  2.3\n",
       "3  0.006930  1.0  2.605929  2.3\n",
       "4  1.156410  1.0  0.346002 -3.7"
      ]
     },
     "execution_count": 117,
     "metadata": {},
     "output_type": "execute_result"
    }
   ],
   "source": [
    "df_hte_train.head()"
   ]
  },
  {
   "cell_type": "code",
   "execution_count": 118,
   "metadata": {},
   "outputs": [
    {
     "data": {
      "text/html": [
       "<div>\n",
       "<style scoped>\n",
       "    .dataframe tbody tr th:only-of-type {\n",
       "        vertical-align: middle;\n",
       "    }\n",
       "\n",
       "    .dataframe tbody tr th {\n",
       "        vertical-align: top;\n",
       "    }\n",
       "\n",
       "    .dataframe thead th {\n",
       "        text-align: right;\n",
       "    }\n",
       "</style>\n",
       "<table border=\"1\" class=\"dataframe\">\n",
       "  <thead>\n",
       "    <tr style=\"text-align: right;\">\n",
       "      <th></th>\n",
       "      <th>x</th>\n",
       "      <th>t</th>\n",
       "      <th>y</th>\n",
       "      <th>ite</th>\n",
       "    </tr>\n",
       "  </thead>\n",
       "  <tbody>\n",
       "    <tr>\n",
       "      <th>0</th>\n",
       "      <td>0.012826</td>\n",
       "      <td>1.0</td>\n",
       "      <td>2.492201</td>\n",
       "      <td>2.3</td>\n",
       "    </tr>\n",
       "    <tr>\n",
       "      <th>1</th>\n",
       "      <td>0.041816</td>\n",
       "      <td>1.0</td>\n",
       "      <td>2.388398</td>\n",
       "      <td>2.3</td>\n",
       "    </tr>\n",
       "    <tr>\n",
       "      <th>2</th>\n",
       "      <td>-0.096298</td>\n",
       "      <td>1.0</td>\n",
       "      <td>2.568154</td>\n",
       "      <td>2.3</td>\n",
       "    </tr>\n",
       "    <tr>\n",
       "      <th>3</th>\n",
       "      <td>-0.027440</td>\n",
       "      <td>1.0</td>\n",
       "      <td>2.649401</td>\n",
       "      <td>2.3</td>\n",
       "    </tr>\n",
       "    <tr>\n",
       "      <th>4</th>\n",
       "      <td>0.063349</td>\n",
       "      <td>1.0</td>\n",
       "      <td>2.514691</td>\n",
       "      <td>2.3</td>\n",
       "    </tr>\n",
       "  </tbody>\n",
       "</table>\n",
       "</div>"
      ],
      "text/plain": [
       "          x    t         y  ite\n",
       "0  0.012826  1.0  2.492201  2.3\n",
       "1  0.041816  1.0  2.388398  2.3\n",
       "2 -0.096298  1.0  2.568154  2.3\n",
       "3 -0.027440  1.0  2.649401  2.3\n",
       "4  0.063349  1.0  2.514691  2.3"
      ]
     },
     "execution_count": 118,
     "metadata": {},
     "output_type": "execute_result"
    }
   ],
   "source": [
    "df_hte_test.head()"
   ]
  },
  {
   "cell_type": "code",
   "execution_count": 119,
   "metadata": {},
   "outputs": [],
   "source": [
    "# Scatter plots - feel free to reuse the code from the sodium example.\n",
    "# Hint: use DataFrame.loc to access treated and control units, or store the columns as numpy arrays.\n",
    "\n",
    "x_train = df_hte_train['x'].values.reshape(-1, 1)\n",
    "t_train = df_hte_train['t'].values.reshape(-1, 1)\n",
    "y_train = df_hte_train['y'].values.reshape(-1, 1)\n",
    "ite_train = df_hte_train['ite']\n"
   ]
  },
  {
   "cell_type": "code",
   "execution_count": 120,
   "metadata": {},
   "outputs": [
    {
     "data": {
      "text/plain": [
       "<matplotlib.legend.Legend at 0x1fe3e80fc70>"
      ]
     },
     "execution_count": 120,
     "metadata": {},
     "output_type": "execute_result"
    },
    {
     "data": {
      "image/png": "[encoded data removed]",
      "text/plain": [
       "<Figure size 432x288 with 1 Axes>"
      ]
     },
     "metadata": {
      "needs_background": "light"
     },
     "output_type": "display_data"
    }
   ],
   "source": [
    "limit = 100\n",
    "plt.scatter(x_train[t_train == 1][:limit], y_train[t_train == 1][:limit], c = \"r\", label = \"Treated\")\n",
    "plt.scatter(x_train[t_train == 0][:limit], y_train[t_train == 0][:limit], c = \"g\", label = \"Control\")\n",
    "plt.legend(ncol=2)"
   ]
  },
  {
   "cell_type": "code",
   "execution_count": 121,
   "metadata": {},
   "outputs": [
    {
     "data": {
      "image/png": "[encoded data removed]",
      "text/plain": [
       "<Figure size 1152x288 with 4 Axes>"
      ]
     },
     "metadata": {
      "needs_background": "light"
     },
     "output_type": "display_data"
    }
   ],
   "source": [
    "# Histograms - again, feel free to reuse the pre-existing code.\n",
    "\n",
    "# YOUR CODE HERE\n",
    "bins=20\n",
    "fig, axs = plt.subplots(1, 4, figsize=(16, 4))\n",
    "axs[0].hist(x_train, bins=bins)\n",
    "axs[1].hist(t_train, bins=bins)\n",
    "axs[2].hist(y_train, bins=bins)\n",
    "axs[3].hist(ite_train, bins=bins)\n",
    "plt.show()"
   ]
  },
  {
   "cell_type": "code",
   "execution_count": 122,
   "metadata": {},
   "outputs": [],
   "source": [
    "#4) Data pre-processing:\n",
    "#There is little (if any) data pre-processing necessary here. The dataset is already divided into training and testing. \n",
    "#The only part left is scaling, depending on the type of models you plan to use.\n",
    "\n",
    "x_test = df_hte_test['x'].values.reshape(-1, 1)\n",
    "t_test = df_hte_test['t'].values.reshape(-1, 1)\n",
    "y_test = df_hte_test['y'].values.reshape(-1, 1)\n",
    "ite_test = df_hte_test['ite']\n",
    "\n",
    "scaler_x = StandardScaler()\n",
    "x_train = scaler_x.fit_transform(x_train)\n",
    "x_test = scaler_x.transform(x_test)"
   ]
  },
  {
   "cell_type": "code",
   "execution_count": 123,
   "metadata": {},
   "outputs": [],
   "source": [
    "#5) Training\n",
    "#This is the modelling part. You should have the following types of models:\n",
    "#Regressor (scikit-learn) & Weighted regressor (IPW, scikit-learn) & CATE estimator from EconML\n",
    "#For each of the above types, choose the models you like - it is up to you!\n",
    "\n",
    "#Steps:\n",
    "  #1-Train the models on training data.\n",
    "  #2-Predict outcomes and calculate effects, or predict effects directly, depending on the method used, on test data.\n"
   ]
  },
  {
   "cell_type": "markdown",
   "metadata": {},
   "source": [
    "Random forest"
   ]
  },
  {
   "cell_type": "code",
   "execution_count": 124,
   "metadata": {},
   "outputs": [],
   "source": [
    "from sklearn.ensemble import RandomForestRegressor, RandomForestClassifier"
   ]
  },
  {
   "cell_type": "code",
   "execution_count": 125,
   "metadata": {},
   "outputs": [
    {
     "data": {
      "text/plain": [
       "RandomForestRegressor()"
      ]
     },
     "execution_count": 125,
     "metadata": {},
     "output_type": "execute_result"
    }
   ],
   "source": [
    "random= RandomForestRegressor()\n",
    "\n",
    "xt_train= np.concatenate([x_train, t_train], axis=1)\n",
    "random.fit(xt_train, y_train.flatten())"
   ]
  },
  {
   "cell_type": "code",
   "execution_count": 126,
   "metadata": {},
   "outputs": [],
   "source": [
    "#prediction \n",
    "xt0_test=np.concatenate([x_test, np.zeros_like(t_test)], axis=1)\n",
    "random_y0_test= random.predict(xt0_test)\n",
    "\n",
    "xt1_test=np.concatenate([x_test, np.ones_like(t_test)], axis=1)\n",
    "random_y1_test= random.predict(xt1_test)\n",
    "\n",
    "#ITE\n",
    "random_ite_test= random_y1_test - random_y0_test\n"
   ]
  },
  {
   "cell_type": "markdown",
   "metadata": {},
   "source": [
    "Random forest with IPW"
   ]
  },
  {
   "cell_type": "code",
   "execution_count": 127,
   "metadata": {},
   "outputs": [],
   "source": [
    "# Get the sample weights\n",
    "prop_random= RandomForestClassifier()\n",
    "weights= get_ps_weights(prop_random, x_train, t_train)\n",
    "\n",
    "\n",
    "# Train the regressor\n",
    "random_ipsw= RandomForestRegressor()\n",
    "random_ipsw.fit(xt_train, y_train.flatten(), sample_weight= weights)\n",
    "\n",
    "# Make predictions\n",
    "random_ipsw_y0_test= random_ipsw.predict(xt0_test)\n",
    "random_ipsw_y1_test= random_ipsw.predict(xt1_test)\n",
    "\n",
    "#ITE\n",
    "random_ipsw_ite_test= random_ipsw_y1_test - random_ipsw_y0_test"
   ]
  },
  {
   "cell_type": "markdown",
   "metadata": {},
   "source": [
    "X-learner"
   ]
  },
  {
   "cell_type": "code",
   "execution_count": 128,
   "metadata": {},
   "outputs": [],
   "source": [
    "XL= XLearner(models= RandomForestRegressor(), propensity_model=RandomForestClassifier())\n",
    "XL.fit(y_train, t_train.flatten(), X=x_train)\n",
    "\n",
    "#ITE\n",
    "XL_ite_test= XL.effect(x_test)"
   ]
  },
  {
   "cell_type": "code",
   "execution_count": 129,
   "metadata": {},
   "outputs": [],
   "source": [
    "#6) Evaluation\n",
    "\n",
    "#Here, use both metrics(epsATE & epsPEHE)to evaluate the performance of your models.\n",
    "#Feel free to perform any other form of evaluation as we did before (confidence intervals, box plots, etc.)."
   ]
  },
  {
   "cell_type": "code",
   "execution_count": 131,
   "metadata": {},
   "outputs": [],
   "source": [
    "# Evaluate your predictions with 'abs_ate' and 'pehe' functions\n",
    "\n",
    "#Error on ATE\n",
    "random_ate_test= abs_ate(x_test,random_ite_test)\n",
    "random_ipsw_ate_test= abs_ate(x_test,random_ipsw_ite_test)\n",
    "XL_ate_test= abs_ate(x_test,XL_ite_test)\n",
    "\n",
    "#Error on PEHE\n",
    "random_pehe_test= pehe(x_test, random_ite_test)\n",
    "random_ipsw_pehe_test= pehe(x_test, random_ipsw_ite_test)\n",
    "XL_pehe_test= pehe(x_test, XL_ite_test)\n"
   ]
  },
  {
   "cell_type": "code",
   "execution_count": 132,
   "metadata": {},
   "outputs": [
    {
     "data": {
      "text/html": [
       "<div>\n",
       "<style scoped>\n",
       "    .dataframe tbody tr th:only-of-type {\n",
       "        vertical-align: middle;\n",
       "    }\n",
       "\n",
       "    .dataframe tbody tr th {\n",
       "        vertical-align: top;\n",
       "    }\n",
       "\n",
       "    .dataframe thead th {\n",
       "        text-align: right;\n",
       "    }\n",
       "</style>\n",
       "<table border=\"1\" class=\"dataframe\">\n",
       "  <thead>\n",
       "    <tr style=\"text-align: right;\">\n",
       "      <th></th>\n",
       "      <th>Method</th>\n",
       "      <th>ATE test</th>\n",
       "      <th>PEHE test</th>\n",
       "    </tr>\n",
       "  </thead>\n",
       "  <tbody>\n",
       "    <tr>\n",
       "      <th>0</th>\n",
       "      <td>RF</td>\n",
       "      <td>0.542021</td>\n",
       "      <td>[1.6615997667782914, 1.5230418398154668, 1.613...</td>\n",
       "    </tr>\n",
       "    <tr>\n",
       "      <th>1</th>\n",
       "      <td>RF (IPW)</td>\n",
       "      <td>0.259183</td>\n",
       "      <td>[1.9087373520367092, 1.7750136816308846, 1.518...</td>\n",
       "    </tr>\n",
       "    <tr>\n",
       "      <th>2</th>\n",
       "      <td>XL</td>\n",
       "      <td>0.682915</td>\n",
       "      <td>[3.788999710232196]</td>\n",
       "    </tr>\n",
       "  </tbody>\n",
       "</table>\n",
       "</div>"
      ],
      "text/plain": [
       "     Method  ATE test                                          PEHE test\n",
       "0        RF  0.542021  [1.6615997667782914, 1.5230418398154668, 1.613...\n",
       "1  RF (IPW)  0.259183  [1.9087373520367092, 1.7750136816308846, 1.518...\n",
       "2        XL  0.682915                                [3.788999710232196]"
      ]
     },
     "execution_count": 132,
     "metadata": {},
     "output_type": "execute_result"
    }
   ],
   "source": [
    "results = []\n",
    "results.append(['RF', random_ate_test, random_pehe_test])\n",
    "results.append(['RF (IPW)', random_ipsw_ate_test, random_ipsw_pehe_test])\n",
    "results.append(['XL', XL_ate_test, XL_pehe_test])\n",
    "\n",
    "cols = ['Method', 'ATE test', 'PEHE test']\n",
    "\n",
    "df = pd.DataFrame(results, columns=cols)\n",
    "df"
   ]
  },
  {
   "cell_type": "code",
   "execution_count": 135,
   "metadata": {
    "scrolled": true
   },
   "outputs": [
    {
     "data": {
      "image/png": "[encoded data removed]",
      "text/plain": [
       "<Figure size 864x720 with 1 Axes>"
      ]
     },
     "metadata": {
      "needs_background": "light"
     },
     "output_type": "display_data"
    }
   ],
   "source": [
    "plt.figure(figsize=(12, 10))\n",
    "m_size = 10\n",
    "plt.scatter(x_test, random_ite_test, label=\"RF\", s=m_size)\n",
    "plt.scatter(x_test, random_ipsw_ite_test, label=\"RF (IPW)\", s=m_size)\n",
    "plt.scatter(x_test, XL_ite_test, label=\"X-learner\", s=m_size)\n",
    "plt.xlabel('X')\n",
    "plt.ylabel('Treatment Effect')\n",
    "plt.legend()\n",
    "plt.show()"
   ]
  },
  {
   "cell_type": "code",
   "execution_count": 134,
   "metadata": {},
   "outputs": [
    {
     "data": {
      "image/png": "[encoded data removed]",
      "text/plain": [
       "<Figure size 432x288 with 1 Axes>"
      ]
     },
     "metadata": {
      "needs_background": "light"
     },
     "output_type": "display_data"
    }
   ],
   "source": [
    "plt.figure()\n",
    "plt.boxplot([random_ite_test, random_ipsw_ite_test, XL_ite_test.flatten()], labels=['RF', 'RF (IPW)', 'X-learner'])\n",
    "plt.ylabel('Treatment Effect')\n",
    "\n",
    "plt.show()"
   ]
  },
  {
   "cell_type": "code",
   "execution_count": null,
   "metadata": {},
   "outputs": [],
   "source": []
  }
 ],
 "metadata": {
  "kernelspec": {
   "display_name": "Python 3",
   "language": "python",
   "name": "python3"
  },
  "language_info": {
   "codemirror_mode": {
    "name": "ipython",
    "version": 3
   },
   "file_extension": ".py",
   "mimetype": "text/x-python",
   "name": "python",
   "nbconvert_exporter": "python",
   "pygments_lexer": "ipython3",
   "version": "3.8.5"
  }
 },
 "nbformat": 4,
 "nbformat_minor": 4
}
