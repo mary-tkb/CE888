{
 "cells": [
  {
   "cell_type": "code",
   "execution_count": 1,
   "metadata": {},
   "outputs": [],
   "source": [
    "import numpy as np"
   ]
  },
  {
   "cell_type": "markdown",
   "metadata": {},
   "source": [
    "## 1) Write a function list_to_array that receives a list as a function and returns the list converted into a numpy array"
   ]
  },
  {
   "cell_type": "code",
   "execution_count": 5,
   "metadata": {},
   "outputs": [],
   "source": [
    "def list_to_array(myList):\n",
    "    ## Your code goes here\n",
    "    return np.array(myList)\n",
    "   "
   ]
  },
  {
   "cell_type": "code",
   "execution_count": 6,
   "metadata": {},
   "outputs": [
    {
     "name": "stdout",
     "output_type": "stream",
     "text": [
      "[1 2 3 4 5]\n"
     ]
    }
   ],
   "source": [
    "print(list_to_array([1, 2, 3, 4, 5]))"
   ]
  },
  {
   "cell_type": "code",
   "execution_count": 9,
   "metadata": {},
   "outputs": [],
   "source": [
    "x=np.array([1,2,3,4,5,6])\n"
   ]
  },
  {
   "cell_type": "code",
   "execution_count": 11,
   "metadata": {},
   "outputs": [
    {
     "data": {
      "text/plain": [
       "[1, 2, 3, 4, 5, 6]"
      ]
     },
     "execution_count": 11,
     "metadata": {},
     "output_type": "execute_result"
    }
   ],
   "source": [
    "x.tolist()"
   ]
  },
  {
   "cell_type": "markdown",
   "metadata": {},
   "source": [
    "## 2) Using numpy, write a function called 'maximum', which takes an array or list of numbers as input and returns the maximum value found in them."
   ]
  },
  {
   "cell_type": "code",
   "execution_count": 12,
   "metadata": {},
   "outputs": [],
   "source": [
    "def maximum(numbers):\n",
    "    ## Your code goes here\n",
    "    return np.max(numbers)"
   ]
  },
  {
   "cell_type": "code",
   "execution_count": 13,
   "metadata": {},
   "outputs": [
    {
     "name": "stdout",
     "output_type": "stream",
     "text": [
      "3210\n"
     ]
    }
   ],
   "source": [
    "mark2 = [55, 88, 78, 90, 79, 94, 3210]\n",
    "print('%d' % maximum(mark2))"
   ]
  },
  {
   "cell_type": "markdown",
   "metadata": {},
   "source": [
    "## 3) Using numpy, write a function called 'percentile', which takes as input an array or list of numbers and a number between 0-1 (the percentile that the user wants to calculate) and returns the percentile."
   ]
  },
  {
   "cell_type": "code",
   "execution_count": 15,
   "metadata": {},
   "outputs": [],
   "source": [
    "def percentile(numbers, perc):\n",
    "    ## Your code goes here\n",
    "    return np.percentile(numbers, perc * 100)"
   ]
  },
  {
   "cell_type": "code",
   "execution_count": 14,
   "metadata": {},
   "outputs": [],
   "source": [
    "np.percentile?"
   ]
  },
  {
   "cell_type": "code",
   "execution_count": 16,
   "metadata": {},
   "outputs": [
    {
     "name": "stdout",
     "output_type": "stream",
     "text": [
      "82.60\n"
     ]
    }
   ],
   "source": [
    "mark2 = [55, 88, 78, 90, 79, 94, 3210]\n",
    "print('%.2f' % percentile(mark2, 0.4))"
   ]
  },
  {
   "cell_type": "markdown",
   "metadata": {},
   "source": [
    "## 4) Using numpy, write a function called 'sorting_choice', which takes as input an array or list of numbers and a string (which should be either 'asc' or 'desc' for ascending/descending) and returns the same numbers sorted in ascending/descending order. The default value if no string is provided should be 'asc'."
   ]
  },
  {
   "cell_type": "code",
   "execution_count": 27,
   "metadata": {},
   "outputs": [],
   "source": [
    "def sorting_choice(myArray, order=\"asc\"):\n",
    "    ## Your code goes here\n",
    "    if order==\"desc\":\n",
    "        New_array=np.sort(myArray)[::-1]\n",
    "    else: New_array=np.sort(myArray)\n",
    "    return New_array\n",
    "        "
   ]
  },
  {
   "cell_type": "code",
   "execution_count": 18,
   "metadata": {},
   "outputs": [],
   "source": [
    "List=np.array([1,2,3,4,5,6])"
   ]
  },
  {
   "cell_type": "code",
   "execution_count": 29,
   "metadata": {},
   "outputs": [],
   "source": [
    "mark2 = [55, 88, 78, 90, 79, 94, 3210]"
   ]
  },
  {
   "cell_type": "code",
   "execution_count": 32,
   "metadata": {},
   "outputs": [
    {
     "data": {
      "text/plain": [
       "array([  55,   78,   79,   88,   90,   94, 3210])"
      ]
     },
     "execution_count": 32,
     "metadata": {},
     "output_type": "execute_result"
    }
   ],
   "source": [
    "sorting_choice(mark2,'asc')"
   ]
  },
  {
   "cell_type": "code",
   "execution_count": 28,
   "metadata": {},
   "outputs": [
    {
     "name": "stdout",
     "output_type": "stream",
     "text": [
      "3210\n"
     ]
    }
   ],
   "source": [
    "mark2 = [55, 88, 78, 90, 79, 94, 3210]\n",
    "print('%d' % sorting_choice(mark2, 'desc')[0])"
   ]
  },
  {
   "cell_type": "markdown",
   "metadata": {},
   "source": [
    "## 5) Using numpy, write a function called 'mean_of_array_columns', which takes as input a 2D array of numbers and returns the column-wise averages of the array."
   ]
  },
  {
   "cell_type": "code",
   "execution_count": 34,
   "metadata": {},
   "outputs": [],
   "source": [
    "def mean_of_array_columns(numbers):\n",
    "    ## Your code goes here\n",
    "\n",
    "    return numbers.mean(axis=0) "
   ]
  },
  {
   "cell_type": "code",
   "execution_count": 35,
   "metadata": {},
   "outputs": [
    {
     "name": "stdout",
     "output_type": "stream",
     "text": [
      "3\n"
     ]
    }
   ],
   "source": [
    "mark2 = np.asarray([55, 88, 78, 90, 79, 94]).reshape(2, -1)\n",
    "print('%d' % mean_of_array_columns(mark2).shape[0])"
   ]
  },
  {
   "cell_type": "markdown",
   "metadata": {},
   "source": [
    "## 6) Using numpy, write a function called 'stdev_of_array_columns', which takes as input a 2D array of numbers and returns the column-wise standard deviations of the array."
   ]
  },
  {
   "cell_type": "code",
   "execution_count": 38,
   "metadata": {},
   "outputs": [],
   "source": [
    "def stdev_of_array_columns(numbers):\n",
    "    ## Your code goes here\n",
    "    return np.std(numbers,axis=0)\n",
    "   # return numbers.std(axis=0)"
   ]
  },
  {
   "cell_type": "code",
   "execution_count": 39,
   "metadata": {},
   "outputs": [
    {
     "name": "stdout",
     "output_type": "stream",
     "text": [
      "3\n"
     ]
    }
   ],
   "source": [
    "mark2 = np.asarray([55, 88, 78, 90, 79, 94]).reshape(2, -1)\n",
    "print('%d' % stdev_of_array_columns(mark2).shape[0])"
   ]
  },
  {
   "cell_type": "markdown",
   "metadata": {},
   "source": [
    "## 7) We're going to use numpy to generate random numbers. Check the documentation for numpy.random.choice() to complete the functions below.\n",
    "\n",
    "## NOTE: it's important that you pass the parameters to np.random.choice in order. For example, if the instructions say 'return A with probability A1 and B with probability B1', you should pass the arguments to np.random.choice as np.random.choice([A, B], p=[A1, B1]) to be marked correctly."
   ]
  },
  {
   "cell_type": "code",
   "execution_count": 40,
   "metadata": {},
   "outputs": [],
   "source": [
    "# Define our actions\n",
    "\n",
    "def action_0():\n",
    "    ''' This should return 1 with probability 50%, and 0 with probability 50%'''\n",
    "    ## Your code here\n",
    "    return np.random.choice([1,0], p=[0.5,0.5])\n",
    "\n",
    "def action_1():\n",
    "    ''' This should return 1 with probability 60%, and 0 with probability 40%'''\n",
    "    ## Your code here\n",
    "    return np.random.choice([1,0], p=[0.6,0.4])\n",
    "\n",
    "def action_2():\n",
    "    ''' This should return 1 with probability 20%, and 0 with probability 80%'''\n",
    "    ## Your code here\n",
    "    return np.random.choice([1,0], p=[0.2,0.8])"
   ]
  },
  {
   "cell_type": "code",
   "execution_count": 41,
   "metadata": {},
   "outputs": [
    {
     "name": "stdout",
     "output_type": "stream",
     "text": [
      "0, 1, 0, 0, 0, 0\n"
     ]
    }
   ],
   "source": [
    "np.random.seed(4)\n",
    "print('%d, %d, %d, %d, %d, %d' % (action_0(), action_1(), action_2(), action_0(), action_1(), action_2()))"
   ]
  },
  {
   "cell_type": "markdown",
   "metadata": {},
   "source": [
    "## 8) We're going to use numpy to generate random numbers. Check the documentation for numpy.random.choice() to complete the functions below.\n",
    "\n",
    "## NOTE: it's important that you pass the parameters to np.random.choice in order. For example, if the instructions say 'return A with probability A1 and B with probability B1', you should pass the arguments to np.random.choice as np.random.choice([A, B], p=[A1, B1]) to be marked correctly."
   ]
  },
  {
   "cell_type": "code",
   "execution_count": 42,
   "metadata": {},
   "outputs": [],
   "source": [
    "def policy():\n",
    "    ''' This should return 0 with probability 40%; 1 with probability 10%;\n",
    "    or 2 with probability 50%'''\n",
    "    ## Your code here\n",
    "    return np.random.choice([0,1,2], p=[0.4,0.1,0.5])"
   ]
  },
  {
   "cell_type": "code",
   "execution_count": 43,
   "metadata": {},
   "outputs": [
    {
     "name": "stdout",
     "output_type": "stream",
     "text": [
      "2, 2, 2, 2, 2, 0\n"
     ]
    }
   ],
   "source": [
    "np.random.seed(4)\n",
    "print('%d, %d, %d, %d, %d, %d' % (policy(), policy(), policy(), policy(), policy(), policy()))"
   ]
  },
  {
   "cell_type": "markdown",
   "metadata": {},
   "source": [
    "## 9) We're going to use numpy to generate random numbers. Check the documentation for numpy.random.choice() to complete the functions below.\n",
    "\n",
    "## NOTE: it's important that you pass the parameters to np.random.choice in order. For example, if the instructions say 'return A with probability A1 and B with probability B1', you should pass the arguments to np.random.choice as np.random.choice([A, B], p=[A1, B1]) to be marked correctly."
   ]
  },
  {
   "cell_type": "code",
   "execution_count": 45,
   "metadata": {},
   "outputs": [],
   "source": [
    "def policy(p1, p2, p3, p4=0.5):\n",
    "    # p1, p2, p3 are, respectively, the probabilities of choosing between 1, 2, and 3\n",
    "    # the default value for p4 should be 0.5\n",
    "    # action equals 1 with probability p1, 2 with probability p2, and 3 with probability p3\n",
    "    action =np.random.choice([1,2,3],p=[p1,p2,p3]) # Your code here\n",
    "    # Depending on the value of 'action', we choose one of the following options:\n",
    "    # if action is 1: return action1()\n",
    "    # if action is 2: return action2()\n",
    "    # if action is 3: return action1() with probability p4, and action2() otherwise\n",
    "\n",
    "    ## YOUR CODE HERE\n",
    "    if action==1:\n",
    "        return action1()\n",
    "    elif action==2:\n",
    "        return action2()\n",
    "    else:\n",
    "        return np.random.choice([action1(),action2()], p= [p4,1-p4])\n",
    "\n",
    "\n",
    "\n",
    "def action1(p=0.2):\n",
    "    # Return 0 with probability p and 1 otherwise\n",
    "    # the default value for p should be 0.2\n",
    "    \n",
    "    ## YOUR CODE HERE\n",
    "\n",
    "    return np.random.choice([0,1], p=[p,1-p])\n",
    "    \n",
    "\n",
    "def action2(p=0.9):\n",
    "    # Return 3 with probability p and -5 otherwise\n",
    "    # the default value for p should be 0.9\n",
    "    \n",
    "    ## YOUR CODE HERE\n",
    "    return np.random.choice([3,-5], p=[p,1-p])"
   ]
  },
  {
   "cell_type": "code",
   "execution_count": 46,
   "metadata": {},
   "outputs": [
    {
     "name": "stdout",
     "output_type": "stream",
     "text": [
      "0.794\n"
     ]
    }
   ],
   "source": [
    "np.random.seed(4)\n",
    "# Check default value for p1\n",
    "pulls = [action1() for _ in range(20000)]\n",
    "print('%.3f' % np.mean(pulls))"
   ]
  },
  {
   "cell_type": "code",
   "execution_count": 47,
   "metadata": {},
   "outputs": [
    {
     "name": "stdout",
     "output_type": "stream",
     "text": [
      "0.944\n"
     ]
    }
   ],
   "source": [
    "# Changing default value for p4\n",
    "np.random.seed(3)\n",
    "pulls = [policy(0, 0, 1, 0.9) for _ in range(20000)]\n",
    "print('%.3f' % np.mean(pulls))"
   ]
  },
  {
   "cell_type": "code",
   "execution_count": null,
   "metadata": {},
   "outputs": [],
   "source": [
    " "
   ]
  }
 ],
 "metadata": {
  "kernelspec": {
   "display_name": "Python 3",
   "language": "python",
   "name": "python3"
  },
  "language_info": {
   "codemirror_mode": {
    "name": "ipython",
    "version": 3
   },
   "file_extension": ".py",
   "mimetype": "text/x-python",
   "name": "python",
   "nbconvert_exporter": "python",
   "pygments_lexer": "ipython3",
   "version": "3.8.5"
  }
 },
 "nbformat": 4,
 "nbformat_minor": 4
}
