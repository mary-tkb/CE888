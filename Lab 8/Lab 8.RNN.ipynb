{
 "cells": [
  {
   "cell_type": "code",
   "execution_count": 1,
   "metadata": {},
   "outputs": [],
   "source": [
    "# imports\n",
    "\n",
    "import numpy as np\n",
    "import matplotlib.pyplot as plt\n",
    "import os\n",
    "import pandas as pd\n",
    "from sklearn.model_selection import train_test_split\n",
    "from tensorflow import keras\n",
    "from keras import layers, models\n",
    "from keras.callbacks import EarlyStopping, ModelCheckpoint"
   ]
  },
  {
   "cell_type": "code",
   "execution_count": 2,
   "metadata": {},
   "outputs": [
    {
     "data": {
      "text/html": [
       "<div>\n",
       "<style scoped>\n",
       "    .dataframe tbody tr th:only-of-type {\n",
       "        vertical-align: middle;\n",
       "    }\n",
       "\n",
       "    .dataframe tbody tr th {\n",
       "        vertical-align: top;\n",
       "    }\n",
       "\n",
       "    .dataframe thead th {\n",
       "        text-align: right;\n",
       "    }\n",
       "</style>\n",
       "<table border=\"1\" class=\"dataframe\">\n",
       "  <thead>\n",
       "    <tr style=\"text-align: right;\">\n",
       "      <th></th>\n",
       "      <th>date</th>\n",
       "      <th>radiation_avg</th>\n",
       "      <th>precip</th>\n",
       "      <th>wind_avg</th>\n",
       "      <th>wind_max</th>\n",
       "      <th>temp_avg</th>\n",
       "      <th>humidity_avg</th>\n",
       "    </tr>\n",
       "  </thead>\n",
       "  <tbody>\n",
       "    <tr>\n",
       "      <th>0</th>\n",
       "      <td>14/05/2014 00:00</td>\n",
       "      <td>159</td>\n",
       "      <td>0.0</td>\n",
       "      <td>1.4</td>\n",
       "      <td>3.3</td>\n",
       "      <td>14.27</td>\n",
       "      <td>64.95</td>\n",
       "    </tr>\n",
       "    <tr>\n",
       "      <th>1</th>\n",
       "      <td>15/05/2014 00:00</td>\n",
       "      <td>280</td>\n",
       "      <td>0.0</td>\n",
       "      <td>0.6</td>\n",
       "      <td>2.3</td>\n",
       "      <td>13.51</td>\n",
       "      <td>72.91</td>\n",
       "    </tr>\n",
       "    <tr>\n",
       "      <th>2</th>\n",
       "      <td>16/05/2014 00:00</td>\n",
       "      <td>186</td>\n",
       "      <td>3.4</td>\n",
       "      <td>0.8</td>\n",
       "      <td>2.7</td>\n",
       "      <td>15.65</td>\n",
       "      <td>74.69</td>\n",
       "    </tr>\n",
       "    <tr>\n",
       "      <th>3</th>\n",
       "      <td>17/05/2014 00:00</td>\n",
       "      <td>221</td>\n",
       "      <td>0.0</td>\n",
       "      <td>1.0</td>\n",
       "      <td>3.3</td>\n",
       "      <td>17.46</td>\n",
       "      <td>71.42</td>\n",
       "    </tr>\n",
       "    <tr>\n",
       "      <th>4</th>\n",
       "      <td>18/05/2014 00:00</td>\n",
       "      <td>255</td>\n",
       "      <td>0.0</td>\n",
       "      <td>2.1</td>\n",
       "      <td>5.5</td>\n",
       "      <td>16.85</td>\n",
       "      <td>74.45</td>\n",
       "    </tr>\n",
       "    <tr>\n",
       "      <th>...</th>\n",
       "      <td>...</td>\n",
       "      <td>...</td>\n",
       "      <td>...</td>\n",
       "      <td>...</td>\n",
       "      <td>...</td>\n",
       "      <td>...</td>\n",
       "      <td>...</td>\n",
       "    </tr>\n",
       "    <tr>\n",
       "      <th>2551</th>\n",
       "      <td>17/05/2021 00:00</td>\n",
       "      <td>196</td>\n",
       "      <td>1.4</td>\n",
       "      <td>2.2</td>\n",
       "      <td>5.5</td>\n",
       "      <td>10.51</td>\n",
       "      <td>99.86</td>\n",
       "    </tr>\n",
       "    <tr>\n",
       "      <th>2552</th>\n",
       "      <td>17/05/2021 00:00</td>\n",
       "      <td>173</td>\n",
       "      <td>2.8</td>\n",
       "      <td>1.8</td>\n",
       "      <td>5.5</td>\n",
       "      <td>10.80</td>\n",
       "      <td>99.86</td>\n",
       "    </tr>\n",
       "    <tr>\n",
       "      <th>2553</th>\n",
       "      <td>18/05/2021 00:00</td>\n",
       "      <td>311</td>\n",
       "      <td>0.0</td>\n",
       "      <td>1.4</td>\n",
       "      <td>5.0</td>\n",
       "      <td>10.29</td>\n",
       "      <td>92.94</td>\n",
       "    </tr>\n",
       "    <tr>\n",
       "      <th>2554</th>\n",
       "      <td>19/05/2021 00:00</td>\n",
       "      <td>232</td>\n",
       "      <td>6.6</td>\n",
       "      <td>1.8</td>\n",
       "      <td>5.5</td>\n",
       "      <td>11.39</td>\n",
       "      <td>90.32</td>\n",
       "    </tr>\n",
       "    <tr>\n",
       "      <th>2555</th>\n",
       "      <td>20/05/2021 00:00</td>\n",
       "      <td>44</td>\n",
       "      <td>0.0</td>\n",
       "      <td>0.5</td>\n",
       "      <td>2.7</td>\n",
       "      <td>6.35</td>\n",
       "      <td>99.86</td>\n",
       "    </tr>\n",
       "  </tbody>\n",
       "</table>\n",
       "<p>2556 rows × 7 columns</p>\n",
       "</div>"
      ],
      "text/plain": [
       "                  date  radiation_avg  precip  wind_avg  wind_max  temp_avg  \\\n",
       "0     14/05/2014 00:00            159     0.0       1.4       3.3     14.27   \n",
       "1     15/05/2014 00:00            280     0.0       0.6       2.3     13.51   \n",
       "2     16/05/2014 00:00            186     3.4       0.8       2.7     15.65   \n",
       "3     17/05/2014 00:00            221     0.0       1.0       3.3     17.46   \n",
       "4     18/05/2014 00:00            255     0.0       2.1       5.5     16.85   \n",
       "...                ...            ...     ...       ...       ...       ...   \n",
       "2551  17/05/2021 00:00            196     1.4       2.2       5.5     10.51   \n",
       "2552  17/05/2021 00:00            173     2.8       1.8       5.5     10.80   \n",
       "2553  18/05/2021 00:00            311     0.0       1.4       5.0     10.29   \n",
       "2554  19/05/2021 00:00            232     6.6       1.8       5.5     11.39   \n",
       "2555  20/05/2021 00:00             44     0.0       0.5       2.7      6.35   \n",
       "\n",
       "      humidity_avg  \n",
       "0            64.95  \n",
       "1            72.91  \n",
       "2            74.69  \n",
       "3            71.42  \n",
       "4            74.45  \n",
       "...            ...  \n",
       "2551         99.86  \n",
       "2552         99.86  \n",
       "2553         92.94  \n",
       "2554         90.32  \n",
       "2555         99.86  \n",
       "\n",
       "[2556 rows x 7 columns]"
      ]
     },
     "execution_count": 2,
     "metadata": {},
     "output_type": "execute_result"
    }
   ],
   "source": [
    "#Timeseries\n",
    "\n",
    "df = pd.read_csv('https://raw.githubusercontent.com/albanda/CE888/master/lab8/weather.csv')\n",
    "df.drop(['temp_max', 'temp_min'], axis=1, inplace=True)\n",
    "df\n"
   ]
  },
  {
   "cell_type": "code",
   "execution_count": 3,
   "metadata": {},
   "outputs": [
    {
     "data": {
      "image/png": "[encoded data removed]",
      "text/plain": [
       "<Figure size 432x288 with 1 Axes>"
      ]
     },
     "metadata": {
      "needs_background": "light"
     },
     "output_type": "display_data"
    }
   ],
   "source": [
    "#plot\n",
    "\n",
    "plt.plot(range(len(df)), df['temp_avg'])\n",
    "plt.xlabel('Temporal range')\n",
    "plt.ylabel('Average temperature (C) (7 years)')\n",
    "plt.savefig('temperature_over_time.pdf', bbox_inches='tight')"
   ]
  },
  {
   "cell_type": "code",
   "execution_count": 4,
   "metadata": {},
   "outputs": [
    {
     "data": {
      "image/png": "[encoded data removed]",
      "text/plain": [
       "<Figure size 432x288 with 1 Axes>"
      ]
     },
     "metadata": {
      "needs_background": "light"
     },
     "output_type": "display_data"
    }
   ],
   "source": [
    "# Look at the first 2 years\n",
    "\n",
    "length = 2*365\n",
    "\n",
    "plt.plot(range(length), df['temp_avg'][:length])\n",
    "plt.xlabel('Temporal range')\n",
    "plt.ylabel('Average temperature (C) (2 years)')\n",
    "plt.savefig('temperature_over_time_2y.pdf', bbox_inches='tight')"
   ]
  },
  {
   "cell_type": "code",
   "execution_count": 5,
   "metadata": {},
   "outputs": [
    {
     "name": "stdout",
     "output_type": "stream",
     "text": [
      "Samples for training: 1278; validation: 766; test: 512\n"
     ]
    }
   ],
   "source": [
    "#Data prep\n",
    "\n",
    "#We'll try to predict the average temperature of tomorrow based on data from the past.\n",
    "#To avoid data leakage, we're going to use a simple approach: use the first 50% of data for training, the next 30% for validation, and the final 20% for testing.\n",
    "\n",
    "n_tr, n_val = int(0.5*len(df)), int(0.3*len(df))\n",
    "n_te = len(df) - n_tr - n_val\n",
    "print('Samples for training: %d; validation: %d; test: %d' % (n_tr, n_val, n_te))"
   ]
  },
  {
   "cell_type": "code",
   "execution_count": 6,
   "metadata": {},
   "outputs": [
    {
     "name": "stdout",
     "output_type": "stream",
     "text": [
      "(2556, 6)\n"
     ]
    }
   ],
   "source": [
    "# Get the data from the dataframe (dropping date column)\n",
    "\n",
    "data = df.iloc[:, 1:].values\n",
    "print(data.shape)\n",
    "\n",
    "assert data.shape[0] == len(df)\n",
    "assert data.shape[1] == len(df.columns)-1, \"Are you sure you're dropping the date?\"\n",
    "\n",
    "# We need to normalise our time series (NNs expect normalized data). Calculate mean and std from TRAINING DATA ONLY. \n",
    "# We'll use it on the validation and test sets.\n",
    "\n",
    "mean_tr = data[:n_tr, :].mean(axis=0)\n",
    "std_tr = data[:n_tr, :].std(axis=0)\n",
    "data = (data - mean_tr) / std_tr\n",
    "\n",
    "\n",
    "y = df['temp_avg'].values.reshape(-1, 1)\n",
    "\n",
    "# index of the column that contains the avg_temp\n",
    "y_idx = 4"
   ]
  },
  {
   "cell_type": "code",
   "execution_count": 7,
   "metadata": {},
   "outputs": [
    {
     "data": {
      "text/plain": [
       "array([14.27, 13.51, 15.65, 17.46, 16.85, 18.26, 17.35, 15.55, 14.52,\n",
       "       13.93, 11.48, 13.63, 12.81, 12.4 , 13.67, 14.15, 13.22, 12.21,\n",
       "       15.53, 14.52])"
      ]
     },
     "execution_count": 7,
     "metadata": {},
     "output_type": "execute_result"
    }
   ],
   "source": [
    "data[:20, y_idx] * std_tr[y_idx] + mean_tr[y_idx]"
   ]
  },
  {
   "cell_type": "code",
   "execution_count": 8,
   "metadata": {},
   "outputs": [
    {
     "data": {
      "text/plain": [
       "array([[18.26],\n",
       "       [17.35],\n",
       "       [15.55],\n",
       "       [14.52],\n",
       "       [13.93],\n",
       "       [11.48],\n",
       "       [13.63],\n",
       "       [12.81],\n",
       "       [12.4 ],\n",
       "       [13.67],\n",
       "       [14.15],\n",
       "       [13.22],\n",
       "       [12.21],\n",
       "       [15.53],\n",
       "       [14.52],\n",
       "       [15.35],\n",
       "       [12.29],\n",
       "       [13.88],\n",
       "       [15.13],\n",
       "       [17.29]])"
      ]
     },
     "execution_count": 8,
     "metadata": {},
     "output_type": "execute_result"
    }
   ],
   "source": [
    "y[5:25]\n"
   ]
  },
  {
   "cell_type": "code",
   "execution_count": 9,
   "metadata": {},
   "outputs": [],
   "source": [
    "# We'll use a Dataset from keras to pass our data\n",
    "\n",
    "# we keep all data points:\n",
    "sampling_rate = 1      \n",
    "\n",
    "# 2 weeks to predict tomorrow's temperature:\n",
    "sequence_length = 14 \n",
    "\n",
    "# the target is the day after the end of the sequence:\n",
    "delay = sampling_rate * sequence_length  \n",
    "batch_size = 16"
   ]
  },
  {
   "cell_type": "code",
   "execution_count": 10,
   "metadata": {},
   "outputs": [
    {
     "name": "stdout",
     "output_type": "stream",
     "text": [
      "X shape: (16, 14, 6)\n",
      "target shape: (16, 1)\n"
     ]
    }
   ],
   "source": [
    "train_dataset = keras.utils.timeseries_dataset_from_array(\n",
    "    data[:-delay],                #X\n",
    "    targets=y[delay:],            #Y\n",
    "    sampling_rate=sampling_rate, sequence_length=sequence_length,\n",
    "    batch_size=batch_size,\n",
    "    start_index=0, end_index=n_tr                    # first 50% for training\n",
    "    )\n",
    "\n",
    "val_dataset = keras.utils.timeseries_dataset_from_array(\n",
    "    data[:-delay],\n",
    "    targets=y[delay:],\n",
    "    sampling_rate=sampling_rate, sequence_length=sequence_length,\n",
    "    batch_size=batch_size,\n",
    "    start_index=n_tr, end_index=n_tr+n_val          # 50%-80% for validation\n",
    "    )\n",
    "\n",
    "test_dataset = keras.utils.timeseries_dataset_from_array(\n",
    "    data[:-delay],\n",
    "    targets=y[delay:],\n",
    "    sampling_rate=sampling_rate, sequence_length=sequence_length,\n",
    "    batch_size=batch_size,\n",
    "    start_index=n_tr+n_val                          # last 20% for test\n",
    "    )\n",
    "\n",
    "#count=0\n",
    "for X, target in train_dataset:\n",
    "    print(\"X shape:\", X.shape)\n",
    "    print(\"target shape:\", target.shape)\n",
    "    \n",
    "    #print(X[:, :, y_idx] * std_tr[y_idx] + mean_tr[y_idx])\n",
    "    #print(target)\n",
    "    \n",
    "    break  # so we only print once"
   ]
  },
  {
   "cell_type": "code",
   "execution_count": 12,
   "metadata": {},
   "outputs": [],
   "source": [
    "# Function to plot history with neural networks\n",
    "\n",
    "\n",
    "def plot_hist_regression(hist, y):\n",
    "    n_ = len(hist.history['mae'])\n",
    "    plt.plot(range(1, n_+1), np.asarray(hist.history['mae']), 'bo', label='MAE on training set')\n",
    "    plt.plot(range(1, n_+1), np.asarray(hist.history['val_mae']), 'b', label='MAE on validation set')\n",
    "    plt.legend()\n",
    "    # plt.ylim(0,100)\n",
    "    plt.xlabel(\"Epoch\") \n",
    "    plt.ylabel(\"MAE (degrees)\")\n",
    "    plt.axhline(y=y)\n",
    "    plt.show()"
   ]
  },
  {
   "cell_type": "code",
   "execution_count": 13,
   "metadata": {},
   "outputs": [
    {
     "name": "stdout",
     "output_type": "stream",
     "text": [
      "MAE on train set = 2.56 (degrees Celsius)\n",
      "MAE on validation set = 2.69 (degrees Celsius)\n",
      "MAE on test set = 2.85 (degrees Celsius)\n"
     ]
    }
   ],
   "source": [
    "#Establishing a baseline\n",
    "\n",
    "\n",
    "#Common sense, no ML baseline\n",
    "    #1) Sanity check\n",
    "    #2) To establish whether ML methods are actually any good\n",
    "#Tomorrow's temperature is likely to be close to today's: let's predict that the temperature 24 hours from now will be equal to the temperature right now.\n",
    "\n",
    "#We'll use the MAE as metric:\n",
    "def naive_method(dataset, mean, std):\n",
    "    error = 0\n",
    "    samples = 0\n",
    "    count = 0\n",
    "    for X, target in dataset:\n",
    "             # predict last available temperature and un-standardise [standardizing=((val-mean) / std)]:\n",
    "        pred = X[:, -1, y_idx] * std + mean \n",
    "        \n",
    "        #print(X.shape, target.shape, pred.shape)  # [batch_size, sequence_length, n_feats]\n",
    "        #print(X[:, -1, y_idx] * std + mean, target)\n",
    "        \n",
    "            # compare our pred with the ground truth:\n",
    "        error += np.sum(np.abs(pred - target)) \n",
    "            # batch_size:\n",
    "        samples += X.shape[0]  \n",
    "        count += 1\n",
    "    return error / samples / batch_size # average\n",
    "\n",
    "\n",
    "print('MAE on train set = %.2f (degrees Celsius)' % naive_method(train_dataset, mean_tr[y_idx], std_tr[y_idx]))\n",
    "print('MAE on validation set = %.2f (degrees Celsius)' % naive_method(val_dataset, mean_tr[y_idx], std_tr[y_idx]))\n",
    "print('MAE on test set = %.2f (degrees Celsius)' % naive_method(test_dataset, mean_tr[y_idx], std_tr[y_idx]))\n",
    "\n",
    "# Save MAE on validation for later\n",
    "baseline = naive_method(val_dataset, mean_tr[y_idx], std_tr[y_idx])"
   ]
  },
  {
   "cell_type": "code",
   "execution_count": 14,
   "metadata": {},
   "outputs": [
    {
     "name": "stdout",
     "output_type": "stream",
     "text": [
      "Model: \"sequential\"\n",
      "_________________________________________________________________\n",
      " Layer (type)                Output Shape              Param #   \n",
      "=================================================================\n",
      " flatten (Flatten)           (None, 84)                0         \n",
      "                                                                 \n",
      " dense (Dense)               (None, 10)                850       \n",
      "                                                                 \n",
      " dense_1 (Dense)             (None, 1)                 11        \n",
      "                                                                 \n",
      "=================================================================\n",
      "Total params: 861\n",
      "Trainable params: 861\n",
      "Non-trainable params: 0\n",
      "_________________________________________________________________\n"
     ]
    }
   ],
   "source": [
    "#Simple ML baseline\n",
    "\n",
    "# To get some practice with neural networks, we'll try a 1-layer NN with nothing fancy.\n",
    "\n",
    "model_dense = models.Sequential()\n",
    "\n",
    "model_dense.add(layers.Flatten(input_shape=(sequence_length, len(df.columns)-1)))  # we need to specify the input shape or we won't be able to see the summary\n",
    "model_dense.add(layers.Dense(10, activation='relu'))\n",
    "model_dense.add(layers.Dense(1))\n",
    "\n",
    "model_dense.summary()"
   ]
  },
  {
   "cell_type": "code",
   "execution_count": 16,
   "metadata": {},
   "outputs": [
    {
     "data": {
      "image/png": "[encoded data removed]",
      "text/plain": [
       "<Figure size 432x288 with 1 Axes>"
      ]
     },
     "metadata": {
      "needs_background": "light"
     },
     "output_type": "display_data"
    }
   ],
   "source": [
    "# Plot MAE cures for validation and training\n",
    "\n",
    "plot_hist_regression(history_dense, baseline)"
   ]
  },
  {
   "cell_type": "code",
   "execution_count": 17,
   "metadata": {},
   "outputs": [
    {
     "name": "stdout",
     "output_type": "stream",
     "text": [
      "Model: \"sequential_1\"\n",
      "_________________________________________________________________\n",
      " Layer (type)                Output Shape              Param #   \n",
      "=================================================================\n",
      " conv1d (Conv1D)             (None, 8, 8)              344       \n",
      "                                                                 \n",
      " max_pooling1d (MaxPooling1D  (None, 4, 8)             0         \n",
      " )                                                               \n",
      "                                                                 \n",
      " conv1d_1 (Conv1D)           (None, 2, 8)              200       \n",
      "                                                                 \n",
      " max_pooling1d_1 (MaxPooling  (None, 1, 8)             0         \n",
      " 1D)                                                             \n",
      "                                                                 \n",
      " global_average_pooling1d (G  (None, 8)                0         \n",
      " lobalAveragePooling1D)                                          \n",
      "                                                                 \n",
      " dense_2 (Dense)             (None, 1)                 9         \n",
      "                                                                 \n",
      "=================================================================\n",
      "Total params: 553\n",
      "Trainable params: 553\n",
      "Non-trainable params: 0\n",
      "_________________________________________________________________\n"
     ]
    }
   ],
   "source": [
    "# We know that CNNs take advantage of neighbouring values, so why don't we try that?\n",
    "\n",
    "# In addition to the Conv2D layers we saw last week, there are Conv1D and Conv3D layers. \n",
    "# Conv1D layers rely on 1D windows that slide across an input sequence (imagine a 1D image)\n",
    "\n",
    "model_cnn = models.Sequential()\n",
    "model_cnn.add(layers.Conv1D(8, 7, activation='relu', input_shape=(sequence_length, len(df.columns)-1)))\n",
    "model_cnn.add(layers.MaxPooling1D(2))\n",
    "model_cnn.add(layers.Conv1D(8, 3, activation='relu'))\n",
    "model_cnn.add(layers.MaxPooling1D(2))\n",
    "model_cnn.add(layers.GlobalAveragePooling1D())\n",
    "model_cnn.add(layers.Dense(1))\n",
    "\n",
    "model_cnn.summary()"
   ]
  },
  {
   "cell_type": "code",
   "execution_count": 18,
   "metadata": {},
   "outputs": [
    {
     "name": "stdout",
     "output_type": "stream",
     "text": [
      "Epoch 1/20\n",
      "80/80 [==============================] - 1s 4ms/step - loss: 120.7775 - mae: 9.6944 - val_loss: 95.6050 - val_mae: 8.2494\n",
      "Epoch 2/20\n",
      "80/80 [==============================] - 0s 3ms/step - loss: 64.3590 - mae: 6.8373 - val_loss: 40.0992 - val_mae: 5.2013\n",
      "Epoch 3/20\n",
      "80/80 [==============================] - 0s 2ms/step - loss: 21.4838 - mae: 3.7543 - val_loss: 19.8491 - val_mae: 3.1838\n",
      "Epoch 4/20\n",
      "80/80 [==============================] - 0s 2ms/step - loss: 15.5003 - mae: 3.0999 - val_loss: 18.4928 - val_mae: 3.0666\n",
      "Epoch 5/20\n",
      "80/80 [==============================] - 0s 2ms/step - loss: 13.9734 - mae: 2.9474 - val_loss: 17.3050 - val_mae: 2.9992\n",
      "Epoch 6/20\n",
      "80/80 [==============================] - 0s 2ms/step - loss: 13.0196 - mae: 2.8498 - val_loss: 16.3104 - val_mae: 2.9459\n",
      "Epoch 7/20\n",
      "80/80 [==============================] - 0s 2ms/step - loss: 12.3420 - mae: 2.7806 - val_loss: 15.5693 - val_mae: 2.9052\n",
      "Epoch 8/20\n",
      "80/80 [==============================] - 0s 2ms/step - loss: 11.8374 - mae: 2.7275 - val_loss: 14.9762 - val_mae: 2.8711\n",
      "Epoch 9/20\n",
      "80/80 [==============================] - 0s 2ms/step - loss: 11.4501 - mae: 2.6852 - val_loss: 14.5136 - val_mae: 2.8423\n",
      "Epoch 10/20\n",
      "80/80 [==============================] - 0s 2ms/step - loss: 11.1195 - mae: 2.6487 - val_loss: 14.1300 - val_mae: 2.8153\n",
      "Epoch 11/20\n",
      "80/80 [==============================] - 0s 2ms/step - loss: 10.8386 - mae: 2.6170 - val_loss: 13.8142 - val_mae: 2.7913\n",
      "Epoch 12/20\n",
      "80/80 [==============================] - 0s 2ms/step - loss: 10.5941 - mae: 2.5886 - val_loss: 13.5690 - val_mae: 2.7714\n",
      "Epoch 13/20\n",
      "80/80 [==============================] - 0s 2ms/step - loss: 10.3778 - mae: 2.5629 - val_loss: 13.3987 - val_mae: 2.7562\n",
      "Epoch 14/20\n",
      "80/80 [==============================] - 0s 2ms/step - loss: 10.1903 - mae: 2.5400 - val_loss: 13.1996 - val_mae: 2.7391\n",
      "Epoch 15/20\n",
      "80/80 [==============================] - 0s 2ms/step - loss: 10.0104 - mae: 2.5176 - val_loss: 13.0663 - val_mae: 2.7259\n",
      "Epoch 16/20\n",
      "80/80 [==============================] - 0s 2ms/step - loss: 9.8424 - mae: 2.4965 - val_loss: 12.9480 - val_mae: 2.7141\n",
      "Epoch 17/20\n",
      "80/80 [==============================] - 0s 2ms/step - loss: 9.6916 - mae: 2.4768 - val_loss: 12.8177 - val_mae: 2.7023\n",
      "Epoch 18/20\n",
      "80/80 [==============================] - 0s 2ms/step - loss: 9.5446 - mae: 2.4578 - val_loss: 12.7406 - val_mae: 2.6938\n",
      "Epoch 19/20\n",
      "80/80 [==============================] - 0s 2ms/step - loss: 9.4100 - mae: 2.4401 - val_loss: 12.6486 - val_mae: 2.6842\n",
      "Epoch 20/20\n",
      "80/80 [==============================] - 0s 2ms/step - loss: 9.2825 - mae: 2.4236 - val_loss: 12.4988 - val_mae: 2.6725\n"
     ]
    }
   ],
   "source": [
    "model_cnn.compile(optimizer='rmsprop', loss='mse', metrics=['mae'])\n",
    "history_cnn = model_cnn.fit(train_dataset, epochs=n_epochs,\n",
    "                            validation_data=val_dataset)"
   ]
  },
  {
   "cell_type": "code",
   "execution_count": 19,
   "metadata": {},
   "outputs": [
    {
     "data": {
      "image/png": "[encoded data removed]",
      "text/plain": [
       "<Figure size 432x288 with 1 Axes>"
      ]
     },
     "metadata": {
      "needs_background": "light"
     },
     "output_type": "display_data"
    }
   ],
   "source": [
    "# Plot MAE cures for validation and training\n",
    "\n",
    "plot_hist_regression(history_cnn, baseline)"
   ]
  },
  {
   "cell_type": "code",
   "execution_count": 33,
   "metadata": {},
   "outputs": [
    {
     "name": "stdout",
     "output_type": "stream",
     "text": [
      "Model: \"sequential_3\"\n",
      "_________________________________________________________________\n",
      " Layer (type)                Output Shape              Param #   \n",
      "=================================================================\n",
      " lstm_1 (LSTM)               (None, 20)                2160      \n",
      "                                                                 \n",
      " dense_4 (Dense)             (None, 1)                 21        \n",
      "                                                                 \n",
      "=================================================================\n",
      "Total params: 2,181\n",
      "Trainable params: 2,181\n",
      "Non-trainable params: 0\n",
      "_________________________________________________________________\n"
     ]
    }
   ],
   "source": [
    "#Long Short Term Memory (LSTM) Neural Networks\n",
    "\n",
    "# 1-layer LSTM\n",
    "model_lstm1 = models.Sequential()\n",
    "\n",
    "model_lstm1.add(layers.LSTM(20, input_shape=(sequence_length, len(df.columns)-1)))\n",
    "model_lstm1.add(layers.Dense(1))\n",
    "\n",
    "model_lstm1.summary()"
   ]
  },
  {
   "cell_type": "code",
   "execution_count": 34,
   "metadata": {},
   "outputs": [
    {
     "name": "stdout",
     "output_type": "stream",
     "text": [
      "Epoch 1/20\n",
      "80/80 [==============================] - 2s 9ms/step - loss: 136.3206 - mae: 10.5655 - val_loss: 115.7194 - val_mae: 9.6241\n",
      "Epoch 2/20\n",
      "80/80 [==============================] - 0s 4ms/step - loss: 92.6458 - mae: 8.5599 - val_loss: 66.7106 - val_mae: 6.8204\n",
      "Epoch 3/20\n",
      "80/80 [==============================] - 0s 4ms/step - loss: 51.8373 - mae: 5.9763 - val_loss: 41.6459 - val_mae: 5.1033\n",
      "Epoch 4/20\n",
      "80/80 [==============================] - 0s 4ms/step - loss: 35.4502 - mae: 4.8441 - val_loss: 31.9167 - val_mae: 4.4750\n",
      "Epoch 5/20\n",
      "80/80 [==============================] - 0s 4ms/step - loss: 27.2068 - mae: 4.2153 - val_loss: 25.8026 - val_mae: 4.0402\n",
      "Epoch 6/20\n",
      "80/80 [==============================] - 0s 4ms/step - loss: 21.6602 - mae: 3.7502 - val_loss: 21.4767 - val_mae: 3.7046\n",
      "Epoch 7/20\n",
      "80/80 [==============================] - 0s 4ms/step - loss: 17.6300 - mae: 3.3808 - val_loss: 18.1659 - val_mae: 3.4073\n",
      "Epoch 8/20\n",
      "80/80 [==============================] - 0s 5ms/step - loss: 14.6482 - mae: 3.0806 - val_loss: 15.6582 - val_mae: 3.1575\n",
      "Epoch 9/20\n",
      "80/80 [==============================] - 0s 4ms/step - loss: 12.4514 - mae: 2.8331 - val_loss: 13.7465 - val_mae: 2.9597\n",
      "Epoch 10/20\n",
      "80/80 [==============================] - 0s 4ms/step - loss: 10.7583 - mae: 2.6305 - val_loss: 12.2344 - val_mae: 2.7992\n",
      "Epoch 11/20\n",
      "80/80 [==============================] - 0s 4ms/step - loss: 9.4571 - mae: 2.4589 - val_loss: 11.0412 - val_mae: 2.6702\n",
      "Epoch 12/20\n",
      "80/80 [==============================] - 0s 5ms/step - loss: 8.4509 - mae: 2.3197 - val_loss: 10.1114 - val_mae: 2.5611\n",
      "Epoch 13/20\n",
      "80/80 [==============================] - 0s 5ms/step - loss: 7.6958 - mae: 2.2098 - val_loss: 9.3642 - val_mae: 2.4705\n",
      "Epoch 14/20\n",
      "80/80 [==============================] - 0s 5ms/step - loss: 7.1128 - mae: 2.1284 - val_loss: 8.7802 - val_mae: 2.3969\n",
      "Epoch 15/20\n",
      "80/80 [==============================] - 0s 5ms/step - loss: 6.7192 - mae: 2.0706 - val_loss: 8.3248 - val_mae: 2.3392\n",
      "Epoch 16/20\n",
      "80/80 [==============================] - 0s 5ms/step - loss: 6.3924 - mae: 2.0225 - val_loss: 7.9770 - val_mae: 2.2929\n",
      "Epoch 17/20\n",
      "80/80 [==============================] - 0s 5ms/step - loss: 6.1804 - mae: 1.9884 - val_loss: 7.6933 - val_mae: 2.2515\n",
      "Epoch 18/20\n",
      "80/80 [==============================] - 0s 5ms/step - loss: 5.9570 - mae: 1.9536 - val_loss: 7.4592 - val_mae: 2.2159\n",
      "Epoch 19/20\n",
      "80/80 [==============================] - 0s 5ms/step - loss: 5.8075 - mae: 1.9266 - val_loss: 7.2530 - val_mae: 2.1829\n",
      "Epoch 20/20\n",
      "80/80 [==============================] - 0s 5ms/step - loss: 5.6315 - mae: 1.8965 - val_loss: 7.0686 - val_mae: 2.1520\n"
     ]
    }
   ],
   "source": [
    "n_epochs = 20\n",
    "\n",
    "model_lstm1.compile(optimizer='rmsprop', loss='mse', metrics=['mae'])\n",
    "history_lstm1 = model_lstm1.fit(train_dataset, epochs=n_epochs,\n",
    "                            validation_data=val_dataset)"
   ]
  },
  {
   "cell_type": "code",
   "execution_count": 35,
   "metadata": {},
   "outputs": [
    {
     "data": {
      "image/png": "[encoded data removed]",
      "text/plain": [
       "<Figure size 432x288 with 1 Axes>"
      ]
     },
     "metadata": {
      "needs_background": "light"
     },
     "output_type": "display_data"
    }
   ],
   "source": [
    "# Plot MAE cures for validation and training\n",
    "\n",
    "plot_hist_regression(history_lstm1, baseline)"
   ]
  },
  {
   "cell_type": "code",
   "execution_count": 36,
   "metadata": {},
   "outputs": [
    {
     "name": "stdout",
     "output_type": "stream",
     "text": [
      "31/31 [==============================] - 0s 3ms/step - loss: 8.0459 - mae: 2.2171\n",
      "Test MAE = 2.22 degrees\n"
     ]
    }
   ],
   "source": [
    "print('Test MAE = %.2f degrees' % model_lstm1.evaluate(test_dataset)[1])"
   ]
  },
  {
   "cell_type": "code",
   "execution_count": 41,
   "metadata": {},
   "outputs": [
    {
     "name": "stdout",
     "output_type": "stream",
     "text": [
      "Model: \"sequential_5\"\n",
      "_________________________________________________________________\n",
      " Layer (type)                Output Shape              Param #   \n",
      "=================================================================\n",
      " lstm_3 (LSTM)               (None, 20)                2160      \n",
      "                                                                 \n",
      " dropout_1 (Dropout)         (None, 20)                0         \n",
      "                                                                 \n",
      " dense_6 (Dense)             (None, 1)                 21        \n",
      "                                                                 \n",
      "=================================================================\n",
      "Total params: 2,181\n",
      "Trainable params: 2,181\n",
      "Non-trainable params: 0\n",
      "_________________________________________________________________\n"
     ]
    }
   ],
   "source": [
    "# Adding dropout (to help avoid overfitting)\n",
    "\n",
    "model_lstm2 = models.Sequential()\n",
    "\n",
    "model_lstm2.add(layers.LSTM(20, input_shape=(sequence_length, len(df.columns)-1), recurrent_dropout=0.25))\n",
    "model_lstm2.add(layers.Dropout(0.4))\n",
    "model_lstm2.add(layers.Dense(1))\n",
    "\n",
    "model_lstm2.summary()"
   ]
  },
  {
   "cell_type": "code",
   "execution_count": 42,
   "metadata": {},
   "outputs": [
    {
     "name": "stdout",
     "output_type": "stream",
     "text": [
      "Epoch 1/20\n",
      "80/80 [==============================] - 2s 8ms/step - loss: 143.4831 - mae: 10.6548 - val_loss: 123.6807 - val_mae: 9.6389\n",
      "Epoch 2/20\n",
      "80/80 [==============================] - 0s 6ms/step - loss: 101.4547 - mae: 8.6796 - val_loss: 62.0665 - val_mae: 6.3865\n",
      "Epoch 3/20\n",
      "80/80 [==============================] - 0s 6ms/step - loss: 52.9904 - mae: 5.9725 - val_loss: 39.9376 - val_mae: 4.9496\n",
      "Epoch 4/20\n",
      "80/80 [==============================] - 1s 6ms/step - loss: 37.2705 - mae: 4.9843 - val_loss: 30.8018 - val_mae: 4.3681\n",
      "Epoch 5/20\n",
      "80/80 [==============================] - 1s 6ms/step - loss: 30.0671 - mae: 4.4844 - val_loss: 25.1076 - val_mae: 3.9541\n",
      "Epoch 6/20\n",
      "80/80 [==============================] - 0s 6ms/step - loss: 25.3784 - mae: 4.0882 - val_loss: 21.3238 - val_mae: 3.6575\n",
      "Epoch 7/20\n",
      "80/80 [==============================] - 1s 6ms/step - loss: 22.9212 - mae: 3.8819 - val_loss: 19.0883 - val_mae: 3.4823\n",
      "Epoch 8/20\n",
      "80/80 [==============================] - 0s 6ms/step - loss: 20.1549 - mae: 3.6007 - val_loss: 17.2329 - val_mae: 3.3178\n",
      "Epoch 9/20\n",
      "80/80 [==============================] - 0s 6ms/step - loss: 19.2933 - mae: 3.4996 - val_loss: 15.0637 - val_mae: 3.0827\n",
      "Epoch 10/20\n",
      "80/80 [==============================] - 1s 7ms/step - loss: 17.5580 - mae: 3.3462 - val_loss: 13.6484 - val_mae: 2.9331\n",
      "Epoch 11/20\n",
      "80/80 [==============================] - 1s 6ms/step - loss: 15.4478 - mae: 3.1272 - val_loss: 12.5117 - val_mae: 2.8102\n",
      "Epoch 12/20\n",
      "80/80 [==============================] - 1s 7ms/step - loss: 14.7957 - mae: 3.0485 - val_loss: 11.6198 - val_mae: 2.7165\n",
      "Epoch 13/20\n",
      "80/80 [==============================] - 1s 7ms/step - loss: 14.2523 - mae: 3.0095 - val_loss: 10.8196 - val_mae: 2.6163\n",
      "Epoch 14/20\n",
      "80/80 [==============================] - 1s 7ms/step - loss: 12.5998 - mae: 2.8075 - val_loss: 10.0483 - val_mae: 2.5197\n",
      "Epoch 15/20\n",
      "80/80 [==============================] - 1s 7ms/step - loss: 12.4779 - mae: 2.7790 - val_loss: 9.4243 - val_mae: 2.4374\n",
      "Epoch 16/20\n",
      "80/80 [==============================] - 1s 7ms/step - loss: 11.4220 - mae: 2.6924 - val_loss: 8.9873 - val_mae: 2.3852\n",
      "Epoch 17/20\n",
      "80/80 [==============================] - 1s 7ms/step - loss: 12.9430 - mae: 2.8512 - val_loss: 8.6565 - val_mae: 2.3468\n",
      "Epoch 18/20\n",
      "80/80 [==============================] - 1s 7ms/step - loss: 11.3758 - mae: 2.6926 - val_loss: 7.9984 - val_mae: 2.2469\n",
      "Epoch 19/20\n",
      "80/80 [==============================] - 1s 7ms/step - loss: 10.8607 - mae: 2.6284 - val_loss: 8.0192 - val_mae: 2.2638\n",
      "Epoch 20/20\n",
      "80/80 [==============================] - 1s 7ms/step - loss: 11.7511 - mae: 2.6978 - val_loss: 7.6434 - val_mae: 2.2074\n"
     ]
    }
   ],
   "source": [
    "model_lstm2.compile(optimizer='rmsprop', loss='mse', metrics=['mae'])\n",
    "history_lstm2 = model_lstm2.fit(train_dataset, epochs=n_epochs,\n",
    "                            validation_data=val_dataset)"
   ]
  },
  {
   "cell_type": "code",
   "execution_count": 43,
   "metadata": {},
   "outputs": [
    {
     "data": {
      "image/png": "[encoded data removed]",
      "text/plain": [
       "<Figure size 432x288 with 1 Axes>"
      ]
     },
     "metadata": {
      "needs_background": "light"
     },
     "output_type": "display_data"
    }
   ],
   "source": [
    "# Plot MAE cures for validation and training\n",
    "\n",
    "plot_hist_regression(history_lstm2, baseline)"
   ]
  },
  {
   "cell_type": "code",
   "execution_count": 44,
   "metadata": {},
   "outputs": [
    {
     "name": "stdout",
     "output_type": "stream",
     "text": [
      "31/31 [==============================] - 0s 3ms/step - loss: 8.6063 - mae: 2.2917\n",
      "Test MAE = 2.29 degrees\n"
     ]
    }
   ],
   "source": [
    "print('Test MAE = %.2f degrees' % model_lstm2.evaluate(test_dataset)[1])"
   ]
  },
  {
   "cell_type": "code",
   "execution_count": 51,
   "metadata": {},
   "outputs": [
    {
     "name": "stdout",
     "output_type": "stream",
     "text": [
      "Model: \"sequential_8\"\n",
      "_________________________________________________________________\n",
      " Layer (type)                Output Shape              Param #   \n",
      "=================================================================\n",
      " lstm_8 (LSTM)               (None, 14, 20)            2160      \n",
      "                                                                 \n",
      " lstm_9 (LSTM)               (None, 20)                3280      \n",
      "                                                                 \n",
      " dropout_4 (Dropout)         (None, 20)                0         \n",
      "                                                                 \n",
      " dense_9 (Dense)             (None, 1)                 21        \n",
      "                                                                 \n",
      "=================================================================\n",
      "Total params: 5,461\n",
      "Trainable params: 5,461\n",
      "Non-trainable params: 0\n",
      "_________________________________________________________________\n"
     ]
    }
   ],
   "source": [
    "# Performance in the previous figure can (maybe) still be improved\n",
    "# Let's try to add some more layers -- we can do this now that we're no longer overfitting\n",
    "\n",
    "model_lstm3 = models.Sequential()\n",
    "\n",
    "model_lstm3.add(layers.LSTM(20, input_shape=(sequence_length, len(df.columns)-1), recurrent_dropout=0.25, return_sequences=True))  # NEW!\n",
    "model_lstm3.add(layers.LSTM(20, input_shape=(sequence_length, len(df.columns)-1), recurrent_dropout=0.25))  # NEW!!\n",
    "model_lstm3.add(layers.Dropout(0.4))\n",
    "model_lstm3.add(layers.Dense(1))\n",
    "\n",
    "model_lstm3.summary()"
   ]
  },
  {
   "cell_type": "code",
   "execution_count": 52,
   "metadata": {},
   "outputs": [
    {
     "name": "stdout",
     "output_type": "stream",
     "text": [
      "Epoch 1/60\n",
      "80/80 [==============================] - 3s 13ms/step - loss: 123.4710 - mae: 9.9813 - val_loss: 80.3149 - val_mae: 7.6021\n",
      "Epoch 2/60\n",
      "80/80 [==============================] - 1s 11ms/step - loss: 61.0563 - mae: 6.5456 - val_loss: 46.4239 - val_mae: 5.3814\n",
      "Epoch 3/60\n",
      "80/80 [==============================] - 1s 11ms/step - loss: 41.8637 - mae: 5.2670 - val_loss: 36.2822 - val_mae: 4.7590\n",
      "Epoch 4/60\n",
      "80/80 [==============================] - 1s 11ms/step - loss: 33.5150 - mae: 4.6912 - val_loss: 30.7711 - val_mae: 4.4422\n",
      "Epoch 5/60\n",
      "80/80 [==============================] - 1s 11ms/step - loss: 28.5376 - mae: 4.3033 - val_loss: 25.9828 - val_mae: 4.1011\n",
      "Epoch 6/60\n",
      "80/80 [==============================] - 1s 12ms/step - loss: 25.0612 - mae: 4.0117 - val_loss: 22.3172 - val_mae: 3.8099\n",
      "Epoch 7/60\n",
      "80/80 [==============================] - 1s 12ms/step - loss: 21.3167 - mae: 3.6954 - val_loss: 18.7162 - val_mae: 3.4437\n",
      "Epoch 8/60\n",
      "80/80 [==============================] - 1s 12ms/step - loss: 19.1607 - mae: 3.4890 - val_loss: 17.3250 - val_mae: 3.3418\n",
      "Epoch 9/60\n",
      "80/80 [==============================] - 1s 12ms/step - loss: 17.7991 - mae: 3.3888 - val_loss: 15.4162 - val_mae: 3.1483\n",
      "Epoch 10/60\n",
      "80/80 [==============================] - 1s 12ms/step - loss: 16.3151 - mae: 3.1964 - val_loss: 13.9936 - val_mae: 3.0072\n",
      "Epoch 11/60\n",
      "80/80 [==============================] - 1s 12ms/step - loss: 14.3049 - mae: 3.0122 - val_loss: 12.5730 - val_mae: 2.8491\n",
      "Epoch 12/60\n",
      "80/80 [==============================] - 1s 12ms/step - loss: 13.9305 - mae: 2.9359 - val_loss: 11.8422 - val_mae: 2.7770\n",
      "Epoch 13/60\n",
      "80/80 [==============================] - 1s 13ms/step - loss: 13.4651 - mae: 2.9172 - val_loss: 11.0290 - val_mae: 2.6780\n",
      "Epoch 14/60\n",
      "80/80 [==============================] - 1s 13ms/step - loss: 12.5632 - mae: 2.8332 - val_loss: 10.6604 - val_mae: 2.6344\n",
      "Epoch 15/60\n",
      "80/80 [==============================] - 1s 13ms/step - loss: 12.0813 - mae: 2.7466 - val_loss: 9.7678 - val_mae: 2.5264\n",
      "Epoch 16/60\n",
      "80/80 [==============================] - 1s 13ms/step - loss: 12.0989 - mae: 2.7785 - val_loss: 9.3920 - val_mae: 2.4816\n",
      "Epoch 17/60\n",
      "80/80 [==============================] - 1s 13ms/step - loss: 10.9856 - mae: 2.6758 - val_loss: 9.2963 - val_mae: 2.4711\n",
      "Epoch 18/60\n",
      "80/80 [==============================] - 1s 13ms/step - loss: 11.3269 - mae: 2.6496 - val_loss: 8.9791 - val_mae: 2.4350\n",
      "Epoch 19/60\n",
      "80/80 [==============================] - 1s 13ms/step - loss: 10.6475 - mae: 2.5883 - val_loss: 8.6936 - val_mae: 2.3993\n",
      "Epoch 20/60\n",
      "80/80 [==============================] - 1s 13ms/step - loss: 10.8857 - mae: 2.6010 - val_loss: 8.3477 - val_mae: 2.3549\n",
      "Epoch 21/60\n",
      "80/80 [==============================] - 1s 13ms/step - loss: 10.8459 - mae: 2.5965 - val_loss: 7.7213 - val_mae: 2.2560\n",
      "Epoch 22/60\n",
      "80/80 [==============================] - 1s 13ms/step - loss: 10.2684 - mae: 2.5370 - val_loss: 7.5381 - val_mae: 2.2273\n",
      "Epoch 23/60\n",
      "80/80 [==============================] - 1s 14ms/step - loss: 11.0073 - mae: 2.5939 - val_loss: 7.2973 - val_mae: 2.1873\n",
      "Epoch 24/60\n",
      "80/80 [==============================] - 1s 14ms/step - loss: 9.8608 - mae: 2.5201 - val_loss: 7.2156 - val_mae: 2.1817\n",
      "Epoch 25/60\n",
      "80/80 [==============================] - 1s 13ms/step - loss: 9.7090 - mae: 2.4806 - val_loss: 7.0942 - val_mae: 2.1582\n",
      "Epoch 26/60\n",
      "80/80 [==============================] - 1s 13ms/step - loss: 9.9272 - mae: 2.5101 - val_loss: 7.0952 - val_mae: 2.1526\n",
      "Epoch 27/60\n",
      "80/80 [==============================] - 1s 14ms/step - loss: 8.9220 - mae: 2.3863 - val_loss: 6.9016 - val_mae: 2.1243\n",
      "Epoch 28/60\n",
      "80/80 [==============================] - 1s 14ms/step - loss: 9.3242 - mae: 2.4215 - val_loss: 6.5035 - val_mae: 2.0415\n",
      "Epoch 29/60\n",
      "80/80 [==============================] - 1s 14ms/step - loss: 8.9209 - mae: 2.3647 - val_loss: 6.3481 - val_mae: 2.0186\n",
      "Epoch 30/60\n",
      "80/80 [==============================] - 1s 15ms/step - loss: 9.0348 - mae: 2.3759 - val_loss: 6.5520 - val_mae: 2.0379\n",
      "Epoch 31/60\n",
      "80/80 [==============================] - 1s 14ms/step - loss: 9.3467 - mae: 2.3990 - val_loss: 6.3115 - val_mae: 1.9950\n",
      "Epoch 32/60\n",
      "80/80 [==============================] - 1s 14ms/step - loss: 8.9360 - mae: 2.3557 - val_loss: 6.0266 - val_mae: 1.9494\n",
      "Epoch 33/60\n",
      "80/80 [==============================] - 1s 14ms/step - loss: 8.9534 - mae: 2.3599 - val_loss: 5.9768 - val_mae: 1.9296\n",
      "Epoch 34/60\n",
      "80/80 [==============================] - 1s 14ms/step - loss: 8.6448 - mae: 2.3257 - val_loss: 5.7258 - val_mae: 1.9013\n",
      "Epoch 35/60\n",
      "80/80 [==============================] - 1s 14ms/step - loss: 9.1375 - mae: 2.3920 - val_loss: 5.5985 - val_mae: 1.8883\n",
      "Epoch 36/60\n",
      "80/80 [==============================] - 1s 16ms/step - loss: 8.4838 - mae: 2.2809 - val_loss: 5.6914 - val_mae: 1.8948\n",
      "Epoch 37/60\n",
      "80/80 [==============================] - 1s 16ms/step - loss: 8.6007 - mae: 2.3208 - val_loss: 5.4796 - val_mae: 1.8561\n",
      "Epoch 38/60\n",
      "80/80 [==============================] - 1s 16ms/step - loss: 8.2317 - mae: 2.2696 - val_loss: 5.6695 - val_mae: 1.8852\n",
      "Epoch 39/60\n",
      "80/80 [==============================] - 1s 15ms/step - loss: 8.7041 - mae: 2.3359 - val_loss: 5.7040 - val_mae: 1.8935\n"
     ]
    }
   ],
   "source": [
    "model_lstm3.compile(optimizer='rmsprop', loss='mse', metrics=['mae'])\n",
    "\n",
    "callbacks = [EarlyStopping(monitor='val_mae', patience=2)]\n",
    "\n",
    "history_lstm3 = model_lstm3.fit(train_dataset, epochs=60,  # increased number of epochs\n",
    "                            validation_data=val_dataset,\n",
    "                            callbacks=callbacks)           # but added early stopping callback"
   ]
  },
  {
   "cell_type": "code",
   "execution_count": 53,
   "metadata": {},
   "outputs": [
    {
     "data": {
      "image/png": "[encoded data removed]",
      "text/plain": [
       "<Figure size 432x288 with 1 Axes>"
      ]
     },
     "metadata": {
      "needs_background": "light"
     },
     "output_type": "display_data"
    },
    {
     "name": "stdout",
     "output_type": "stream",
     "text": [
      "31/31 [==============================] - 0s 5ms/step - loss: 6.2963 - mae: 1.9486\n",
      "Test MAE = 1.95 degrees\n"
     ]
    }
   ],
   "source": [
    "# Plot MAE cures for validation and training\n",
    "\n",
    "plot_hist_regression(history_lstm3, baseline)\n",
    "print('Test MAE = %.2f degrees' % model_lstm3.evaluate(test_dataset)[1])"
   ]
  },
  {
   "cell_type": "markdown",
   "metadata": {},
   "source": [
    "Text\n",
    "\n",
    "\n"
   ]
  },
  {
   "cell_type": "code",
   "execution_count": 55,
   "metadata": {},
   "outputs": [],
   "source": [
    "#Data prep\n",
    "\n",
    "\n",
    "#We'll try to predict whether the review for a movie is positive or negative looking only at the text of the review.\n",
    "#We'll use the IMDB text dataset for this task, which is available on keras.datasets \n",
    "#We'll merge the training and test sets and use 60% for training, 20% for validation, and 20% for testing.\n",
    "#As this is a binary classificationp problem, we'll use the binary cross entropy loss function. We will keep track of accuracy when training and evaluating the model.\n",
    "\n",
    "def plot_hist_classif(hist):\n",
    "    n_ = len(hist.history['accuracy'])\n",
    "    plt.plot(range(1, n_+1), 100*np.asarray(hist.history['accuracy']), 'bo', label='Accuracy on training set')\n",
    "    plt.plot(range(1, n_+1), 100*np.asarray(hist.history['val_accuracy']), 'b', label='Accuracy on validation set')\n",
    "    plt.legend()\n",
    "    plt.xlabel(\"Epoch\") \n",
    "    plt.ylabel(\"Accuracy\")\n",
    "    plt.ylim(0, 100)\n",
    "    plt.axhline(y=50)\n",
    "    plt.show()"
   ]
  },
  {
   "cell_type": "code",
   "execution_count": 56,
   "metadata": {},
   "outputs": [
    {
     "name": "stdout",
     "output_type": "stream",
     "text": [
      "Loading data...\n",
      "25000 train sequences (25000,)\n",
      "25000 test sequences (25000,)\n"
     ]
    }
   ],
   "source": [
    "max_features = 15000                   # only consider the top 15k words\n",
    "maxlen = 500                           # first 500 words of each review\n",
    "batch_size = 32\n",
    "\n",
    "print('Loading data...')\n",
    "\n",
    "# Load dataset\n",
    "(x_train, y_train), (x_test, y_test) = keras.datasets.imdb.load_data(num_words=max_features)\n",
    "\n",
    "print(len(x_train), 'train sequences', x_train.shape)\n",
    "print(len(x_test), 'test sequences', x_test.shape)"
   ]
  },
  {
   "cell_type": "code",
   "execution_count": 57,
   "metadata": {},
   "outputs": [
    {
     "name": "stdout",
     "output_type": "stream",
     "text": [
      "0.5\n",
      "0.5\n"
     ]
    }
   ],
   "source": [
    "# How balanced is this dataset?\n",
    "\n",
    "print(np.sum(y_train)/len(y_train))\n",
    "print(np.sum(y_test)/len(y_test))"
   ]
  },
  {
   "cell_type": "code",
   "execution_count": 58,
   "metadata": {},
   "outputs": [
    {
     "name": "stdout",
     "output_type": "stream",
     "text": [
      "(50000,) (50000,)\n",
      "30000 train sequences (30000,)\n",
      "10000 validation sequences (10000,)\n",
      "10000 test sequences (10000,)\n"
     ]
    }
   ],
   "source": [
    "# Merge the two datasets and divide: 60% for training, 20% validation, 20% test\n",
    "\n",
    "x_, y_ = np.concatenate((x_train, x_test)), np.concatenate((y_train, y_test))\n",
    "print(x_.shape, y_.shape)\n",
    "\n",
    "x_train, x_test, y_train, y_test = train_test_split(x_, y_, test_size=0.4, random_state=10)             # 60/40 split\n",
    "x_val, x_test, y_val, y_test = train_test_split(x_test, y_test, test_size=0.5, random_state=10)         # 50/50 split\n",
    "\n",
    "print(len(x_train), 'train sequences', x_train.shape)\n",
    "print(len(x_val), 'validation sequences', x_val.shape)\n",
    "print(len(x_test), 'test sequences', x_test.shape)"
   ]
  },
  {
   "cell_type": "code",
   "execution_count": 59,
   "metadata": {},
   "outputs": [
    {
     "data": {
      "text/plain": [
       "[1, 11531, 186, 8, 28, 6, 6482, 7, 269, 4042]"
      ]
     },
     "execution_count": 59,
     "metadata": {},
     "output_type": "execute_result"
    }
   ],
   "source": [
    "x_train[0][:10]  # numbers!!"
   ]
  },
  {
   "cell_type": "code",
   "execution_count": 60,
   "metadata": {},
   "outputs": [
    {
     "data": {
      "text/plain": [
       "\"the lilly horror in one is fatale br looks meaningless in bronson be showing as you debut film ample to and ingredients zombi ample they for series and thought she's all manipulate and believing in j show look early last quote desire tight interesting that's kind out is far shelter but of frame br and\""
      ]
     },
     "execution_count": 60,
     "metadata": {},
     "output_type": "execute_result"
    }
   ],
   "source": [
    "# We can explore what one of the reviews looks like at this point.\n",
    "\n",
    "# Retrieve the word index file that maps words to indices\n",
    "word_index = keras.datasets.imdb.get_word_index()\n",
    "\n",
    "# Reverse the word index to obtain a dict mapping indices to words (which is what we have)\n",
    "inverted_word_index = dict((i, word) for (word, i) in word_index.items())\n",
    "\n",
    "# Decode the first sequence in the dataset\n",
    "decoded_sequence = \" \".join(inverted_word_index[i] for i in x_train[0])\n",
    "decoded_sequence\n"
   ]
  },
  {
   "cell_type": "code",
   "execution_count": 61,
   "metadata": {},
   "outputs": [
    {
     "name": "stdout",
     "output_type": "stream",
     "text": [
      "Pad sequences\n",
      "x_train shape: (30000, 500)\n",
      "x_val shape: (10000, 500)\n",
      "x_test shape: (10000, 500)\n"
     ]
    }
   ],
   "source": [
    "# Let's ensure all sequences have the same length through padding\n",
    "\n",
    "\n",
    "#    - shorter reviews are padded with 0's\n",
    "#    - longer reviews are cut\n",
    "\n",
    "print('Pad sequences')\n",
    "\n",
    "x_train = keras.preprocessing.sequence.pad_sequences(x_train, maxlen=maxlen)\n",
    "x_val = keras.preprocessing.sequence.pad_sequences(x_val, maxlen=maxlen)\n",
    "x_test = keras.preprocessing.sequence.pad_sequences(x_test, maxlen=maxlen)\n",
    "\n",
    "print('x_train shape:', x_train.shape)\n",
    "print('x_val shape:', x_val.shape)\n",
    "print('x_test shape:', x_test.shape)"
   ]
  },
  {
   "cell_type": "code",
   "execution_count": 62,
   "metadata": {},
   "outputs": [
    {
     "name": "stdout",
     "output_type": "stream",
     "text": [
      "Model: \"sequential_9\"\n",
      "_________________________________________________________________\n",
      " Layer (type)                Output Shape              Param #   \n",
      "=================================================================\n",
      " embedding (Embedding)       (None, 500, 128)          1920000   \n",
      "                                                                 \n",
      " dense_10 (Dense)            (None, 500, 64)           8256      \n",
      "                                                                 \n",
      " dropout_5 (Dropout)         (None, 500, 64)           0         \n",
      "                                                                 \n",
      " dense_11 (Dense)            (None, 500, 64)           4160      \n",
      "                                                                 \n",
      " dropout_6 (Dropout)         (None, 500, 64)           0         \n",
      "                                                                 \n",
      " flatten_1 (Flatten)         (None, 32000)             0         \n",
      "                                                                 \n",
      " dense_12 (Dense)            (None, 1)                 32001     \n",
      "                                                                 \n",
      "=================================================================\n",
      "Total params: 1,964,417\n",
      "Trainable params: 1,964,417\n",
      "Non-trainable params: 0\n",
      "_________________________________________________________________\n"
     ]
    }
   ],
   "source": [
    "# Basic feedforward model\n",
    "\n",
    "model = models.Sequential()\n",
    "\n",
    "model.add(layers.Embedding(max_features, 128, input_length=maxlen))\n",
    "model.add(layers.Dense(64, activation='relu'))\n",
    "model.add(layers.Dropout(0.5))\n",
    "model.add(layers.Dense(64, activation='relu'))\n",
    "model.add(layers.Dropout(0.5))\n",
    "model.add(layers.Flatten())\n",
    "model.add(layers.Dense(1, activation=\"sigmoid\"))\n",
    "\n",
    "model.summary()"
   ]
  },
  {
   "cell_type": "code",
   "execution_count": 63,
   "metadata": {},
   "outputs": [
    {
     "name": "stdout",
     "output_type": "stream",
     "text": [
      "Epoch 1/20\n",
      "938/938 [==============================] - 35s 37ms/step - loss: 0.4379 - accuracy: 0.7688 - val_loss: 0.2620 - val_accuracy: 0.8951\n",
      "Epoch 2/20\n",
      "938/938 [==============================] - 37s 40ms/step - loss: 0.2418 - accuracy: 0.9052 - val_loss: 0.2521 - val_accuracy: 0.8998\n",
      "Epoch 3/20\n",
      "938/938 [==============================] - 40s 43ms/step - loss: 0.2054 - accuracy: 0.9205 - val_loss: 0.2617 - val_accuracy: 0.8974\n",
      "Epoch 4/20\n",
      "938/938 [==============================] - 41s 44ms/step - loss: 0.1894 - accuracy: 0.9274 - val_loss: 0.2665 - val_accuracy: 0.8965\n",
      "Epoch 5/20\n",
      "938/938 [==============================] - 44s 47ms/step - loss: 0.1769 - accuracy: 0.9329 - val_loss: 0.2650 - val_accuracy: 0.8971\n",
      "Epoch 6/20\n",
      "938/938 [==============================] - 49s 52ms/step - loss: 0.1694 - accuracy: 0.9348 - val_loss: 0.2711 - val_accuracy: 0.8937\n",
      "Epoch 7/20\n",
      "938/938 [==============================] - 55s 59ms/step - loss: 0.1585 - accuracy: 0.9410 - val_loss: 0.3242 - val_accuracy: 0.8752\n",
      "Epoch 8/20\n",
      "938/938 [==============================] - 61s 65ms/step - loss: 0.1523 - accuracy: 0.9417 - val_loss: 0.3188 - val_accuracy: 0.8786\n",
      "Epoch 9/20\n",
      "938/938 [==============================] - 53s 57ms/step - loss: 0.1481 - accuracy: 0.9456 - val_loss: 0.3063 - val_accuracy: 0.8845\n",
      "Epoch 10/20\n",
      "938/938 [==============================] - 45s 48ms/step - loss: 0.1412 - accuracy: 0.9473 - val_loss: 0.3213 - val_accuracy: 0.8784\n",
      "Epoch 11/20\n",
      "938/938 [==============================] - 43s 46ms/step - loss: 0.1340 - accuracy: 0.9506 - val_loss: 0.3519 - val_accuracy: 0.8749\n",
      "Epoch 12/20\n",
      "938/938 [==============================] - 45s 47ms/step - loss: 0.1229 - accuracy: 0.9550 - val_loss: 0.4118 - val_accuracy: 0.8598\n",
      "Epoch 13/20\n",
      "938/938 [==============================] - 45s 48ms/step - loss: 0.1249 - accuracy: 0.9538 - val_loss: 0.4181 - val_accuracy: 0.8589\n",
      "Epoch 14/20\n",
      "938/938 [==============================] - 46s 50ms/step - loss: 0.1136 - accuracy: 0.9577 - val_loss: 0.3259 - val_accuracy: 0.8862\n",
      "Epoch 15/20\n",
      "938/938 [==============================] - 47s 50ms/step - loss: 0.1112 - accuracy: 0.9590 - val_loss: 0.3375 - val_accuracy: 0.8882\n",
      "Epoch 16/20\n",
      "938/938 [==============================] - 43s 46ms/step - loss: 0.1041 - accuracy: 0.9622 - val_loss: 0.3700 - val_accuracy: 0.8818\n",
      "Epoch 17/20\n",
      "938/938 [==============================] - 45s 48ms/step - loss: 0.1025 - accuracy: 0.9630 - val_loss: 0.3980 - val_accuracy: 0.8759\n",
      "Epoch 18/20\n",
      "938/938 [==============================] - 46s 49ms/step - loss: 0.0981 - accuracy: 0.9653 - val_loss: 0.3864 - val_accuracy: 0.8822\n",
      "Epoch 19/20\n",
      "938/938 [==============================] - 51s 54ms/step - loss: 0.0914 - accuracy: 0.9675 - val_loss: 0.3867 - val_accuracy: 0.8804\n",
      "Epoch 20/20\n",
      "938/938 [==============================] - 57s 61ms/step - loss: 0.0898 - accuracy: 0.9667 - val_loss: 0.4102 - val_accuracy: 0.8779\n"
     ]
    }
   ],
   "source": [
    "model.compile(optimizer=\"rmsprop\", loss=\"binary_crossentropy\", metrics=[\"accuracy\"])\n",
    "history = model.fit(x_train, y_train, batch_size=batch_size, epochs=20, validation_data=(x_val, y_val))"
   ]
  },
  {
   "cell_type": "code",
   "execution_count": 64,
   "metadata": {},
   "outputs": [
    {
     "data": {
      "image/png": "[encoded data removed]",
      "text/plain": [
       "<Figure size 432x288 with 1 Axes>"
      ]
     },
     "metadata": {
      "needs_background": "light"
     },
     "output_type": "display_data"
    },
    {
     "name": "stdout",
     "output_type": "stream",
     "text": [
      "313/313 [==============================] - 2s 6ms/step - loss: 0.4038 - accuracy: 0.8834\n",
      "Test Accuracy = 0.88\n"
     ]
    }
   ],
   "source": [
    "plot_hist_classif(history)\n",
    "print('Test Accuracy = %.2f' % model.evaluate(x_test, y_test)[1])  # overfitting!"
   ]
  },
  {
   "cell_type": "code",
   "execution_count": 65,
   "metadata": {},
   "outputs": [
    {
     "name": "stdout",
     "output_type": "stream",
     "text": [
      "Model: \"sequential_10\"\n",
      "_________________________________________________________________\n",
      " Layer (type)                Output Shape              Param #   \n",
      "=================================================================\n",
      " embedding_1 (Embedding)     (None, None, 64)          960000    \n",
      "                                                                 \n",
      " lstm_10 (LSTM)              (None, 128)               98816     \n",
      "                                                                 \n",
      " dropout_7 (Dropout)         (None, 128)               0         \n",
      "                                                                 \n",
      " dense_13 (Dense)            (None, 1)                 129       \n",
      "                                                                 \n",
      "=================================================================\n",
      "Total params: 1,058,945\n",
      "Trainable params: 1,058,945\n",
      "Non-trainable params: 0\n",
      "_________________________________________________________________\n"
     ]
    }
   ],
   "source": [
    "# Let's try an RNN\n",
    "\n",
    "model = models.Sequential()\n",
    "model.add(layers.Embedding(max_features, 64))\n",
    "model.add(layers.LSTM(128, return_sequences=False))\n",
    "model.add(layers.Dropout(0.5))\n",
    "model.add(layers.Dense(1, activation=\"sigmoid\"))\n",
    "model.compile(optimizer=\"rmsprop\", loss=\"binary_crossentropy\", metrics=[\"accuracy\"])\n",
    "\n",
    "model.summary()"
   ]
  },
  {
   "cell_type": "code",
   "execution_count": 66,
   "metadata": {},
   "outputs": [
    {
     "name": "stdout",
     "output_type": "stream",
     "text": [
      "Epoch 1/20\n",
      "938/938 [==============================] - 397s 423ms/step - loss: 0.4292 - accuracy: 0.8120 - val_loss: 0.3359 - val_accuracy: 0.8708\n",
      "Epoch 2/20\n",
      "938/938 [==============================] - 467s 498ms/step - loss: 0.2861 - accuracy: 0.8880 - val_loss: 0.3305 - val_accuracy: 0.8685\n",
      "Epoch 3/20\n",
      "938/938 [==============================] - 530s 565ms/step - loss: 0.2387 - accuracy: 0.9106 - val_loss: 0.2881 - val_accuracy: 0.8914\n",
      "Epoch 4/20\n",
      "938/938 [==============================] - 531s 567ms/step - loss: 0.2080 - accuracy: 0.9217 - val_loss: 0.3805 - val_accuracy: 0.8801\n",
      "Epoch 5/20\n",
      "938/938 [==============================] - 478s 510ms/step - loss: 0.1882 - accuracy: 0.9313 - val_loss: 0.2965 - val_accuracy: 0.8954\n",
      "Epoch 6/20\n",
      "938/938 [==============================] - 457s 487ms/step - loss: 0.1681 - accuracy: 0.9401 - val_loss: 0.2692 - val_accuracy: 0.8892\n",
      "Epoch 7/20\n",
      "938/938 [==============================] - 451s 480ms/step - loss: 0.1505 - accuracy: 0.9479 - val_loss: 0.3120 - val_accuracy: 0.8820\n"
     ]
    },
    {
     "data": {
      "image/png": "[encoded data removed]",
      "text/plain": [
       "<Figure size 432x288 with 1 Axes>"
      ]
     },
     "metadata": {
      "needs_background": "light"
     },
     "output_type": "display_data"
    },
    {
     "name": "stdout",
     "output_type": "stream",
     "text": [
      "313/313 [==============================] - 47s 149ms/step - loss: 0.3087 - accuracy: 0.8872\n",
      "Test Accuracy = 0.89\n"
     ]
    }
   ],
   "source": [
    "# This model will take a long time to train, so we add an early stopping criterion\n",
    "# N.B: It's actually much faster to train WITHOUT A GPU!!\n",
    "\n",
    "callbacks = [EarlyStopping(monitor='val_accuracy', patience=2)]\n",
    "history = model.fit(x_train, y_train, batch_size=batch_size, epochs=20, validation_data=(x_val, y_val), callbacks=callbacks)\n",
    "plot_hist_classif(history)\n",
    "\n",
    "print('Test Accuracy = %.2f' % model.evaluate(x_test, y_test)[1])\n",
    "# Note that we're still overfitting, but this is just an example of use"
   ]
  },
  {
   "cell_type": "markdown",
   "metadata": {},
   "source": [
    "My Turn!!!!"
   ]
  },
  {
   "cell_type": "code",
   "execution_count": 67,
   "metadata": {},
   "outputs": [
    {
     "name": "stdout",
     "output_type": "stream",
     "text": [
      "Model: \"sequential_11\"\n",
      "_________________________________________________________________\n",
      " Layer (type)                Output Shape              Param #   \n",
      "=================================================================\n",
      " embedding_2 (Embedding)     (None, None, 64)          960000    \n",
      "                                                                 \n",
      " bidirectional (Bidirectiona  (None, None, 64)         24832     \n",
      " l)                                                              \n",
      "                                                                 \n",
      " bidirectional_1 (Bidirectio  (None, 64)               24832     \n",
      " nal)                                                            \n",
      "                                                                 \n",
      " dropout_8 (Dropout)         (None, 64)                0         \n",
      "                                                                 \n",
      " dense_14 (Dense)            (None, 1)                 65        \n",
      "                                                                 \n",
      "=================================================================\n",
      "Total params: 1,009,729\n",
      "Trainable params: 1,009,729\n",
      "Non-trainable params: 0\n",
      "_________________________________________________________________\n",
      "None\n",
      "Epoch 1/5\n",
      "938/938 [==============================] - 373s 394ms/step - loss: 0.3835 - accuracy: 0.8275 - val_loss: 0.2861 - val_accuracy: 0.8846\n",
      "Epoch 2/5\n",
      "938/938 [==============================] - 513s 547ms/step - loss: 0.2515 - accuracy: 0.9046 - val_loss: 0.2730 - val_accuracy: 0.8927\n",
      "Epoch 3/5\n",
      "938/938 [==============================] - 488s 521ms/step - loss: 0.2130 - accuracy: 0.9211 - val_loss: 0.2672 - val_accuracy: 0.8937\n",
      "Epoch 4/5\n",
      "938/938 [==============================] - 528s 563ms/step - loss: 0.1821 - accuracy: 0.9357 - val_loss: 0.2634 - val_accuracy: 0.9000\n",
      "Epoch 5/5\n",
      "938/938 [==============================] - 540s 576ms/step - loss: 0.1580 - accuracy: 0.9447 - val_loss: 0.2860 - val_accuracy: 0.8982\n"
     ]
    },
    {
     "data": {
      "image/png": "[encoded data removed]",
      "text/plain": [
       "<Figure size 432x288 with 1 Axes>"
      ]
     },
     "metadata": {
      "needs_background": "light"
     },
     "output_type": "display_data"
    },
    {
     "name": "stdout",
     "output_type": "stream",
     "text": [
      "313/313 [==============================] - 44s 136ms/step - loss: 0.2533 - accuracy: 0.9012\n",
      "Test Accuracy = 0.90\n"
     ]
    }
   ],
   "source": [
    "n_ = 5        # number of epochs.\n",
    "\n",
    "model = models.Sequential()\n",
    "\n",
    "model.add(layers.Embedding(max_features, 64))\n",
    "model.add(layers.Bidirectional(layers.LSTM(32, return_sequences=True)))\n",
    "model.add(layers.Bidirectional(layers.LSTM(32, return_sequences=False)))\n",
    "model.add(layers.Dropout(0.5))\n",
    "\n",
    "model.add(layers.Dense(1, activation=\"sigmoid\"))\n",
    "\n",
    "\n",
    "# I DON'T RECOMMEND THAT YOU CHANGE CODE AFTER THIS POINT\n",
    "model.compile(optimizer=\"rmsprop\", loss=\"binary_crossentropy\", metrics=[\"accuracy\"])\n",
    "\n",
    "print(model.summary())\n",
    "\n",
    "# This model will take a long time to train, so we add an early stopping criterion\n",
    "# I've also added a ModelCheckpoint that will save the best model according to val_accuracy regardless of whether we continue training\n",
    "\n",
    "callbacks = [EarlyStopping(monitor='val_accuracy', patience=1),\n",
    "             ModelCheckpoint(\"model.keras\", save_best_only=True, monitor=\"val_accuracy\", mode='max')]\n",
    "\n",
    "history = model.fit(x_train, y_train, batch_size=batch_size, epochs=n_, \n",
    "                    validation_data=(x_val, y_val), \n",
    "                    callbacks=callbacks)\n",
    "\n",
    "plot_hist_classif(history)\n",
    "model = keras.models.load_model(\"model.keras\")\n",
    "\n",
    "print('Test Accuracy = %.2f' % model.evaluate(x_test, y_test)[1])"
   ]
  },
  {
   "cell_type": "code",
   "execution_count": 70,
   "metadata": {},
   "outputs": [
    {
     "name": "stdout",
     "output_type": "stream",
     "text": [
      "Due to memory constraints on Moodle, the lab quiz has a 10MB limit on your model size, so you need to use a smaller model to validate through the auto-marker.\n",
      "Your model is accurate enough!\n",
      "Model saved! You can now upload it to the lab quiz.\n"
     ]
    }
   ],
   "source": [
    "if model.count_params() > 1000000:\n",
    "    print(\"Due to memory constraints on Moodle, the lab quiz has a 10MB limit on your model size, so you need to use a smaller model to validate through the auto-marker.\")\n",
    "\n",
    "if history.history[\"val_accuracy\"][-1] > 0.8:\n",
    "    print(\"Your model is accurate enough!\")\n",
    "\n",
    "else:\n",
    "    print(\"Accuracy is below the threshold!\")\n",
    "    raise Exception(\"Your model isn't accurate enough to pass the progress checker!\")\n",
    "    \n",
    "# Save the model into a local folder\n",
    "keras.models.save_model(model, \"Model.h5\",save_format='h5')\n",
    "\n",
    "print('Model saved! You can now upload it to the lab quiz.')"
   ]
  },
  {
   "cell_type": "code",
   "execution_count": null,
   "metadata": {},
   "outputs": [],
   "source": []
  }
 ],
 "metadata": {
  "kernelspec": {
   "display_name": "Python 3",
   "language": "python",
   "name": "python3"
  },
  "language_info": {
   "codemirror_mode": {
    "name": "ipython",
    "version": 3
   },
   "file_extension": ".py",
   "mimetype": "text/x-python",
   "name": "python",
   "nbconvert_exporter": "python",
   "pygments_lexer": "ipython3",
   "version": "3.8.5"
  }
 },
 "nbformat": 4,
 "nbformat_minor": 4
}
